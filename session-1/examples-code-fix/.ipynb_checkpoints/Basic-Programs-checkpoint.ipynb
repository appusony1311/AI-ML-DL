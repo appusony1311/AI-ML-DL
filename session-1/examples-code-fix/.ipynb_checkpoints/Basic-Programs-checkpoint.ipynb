{
 "cells": [
  {
   "cell_type": "markdown",
   "id": "fixed-microwave",
   "metadata": {},
   "source": [
    "Python program to add two numbers\n",
    "\n",
    "Maximum of two numbers in Python\n",
    "\n",
    "Python Program for factorial of a number\n",
    "\n",
    "Python Program for simple interest\n",
    "\n",
    "Python Program for compound interest\n",
    "\n",
    "Python Program to check Armstrong Number\n",
    "\n",
    "Python Program for Program to find area of a circle\n",
    "\n",
    "Python program to print all Prime numbers in an Interval\n",
    "\n",
    "Python program to check whether a number is Prime or not\n",
    "\n",
    "Python Program for n-th Fibonacci number\n",
    "\n",
    "\n",
    "Program to print ASCII Value of a character\n",
    "\n",
    "Python Program for Sum of squares of first n natural numbers\n",
    "\n",
    "Python Program for cube sum of first n natural numbers\n"
   ]
  },
  {
   "cell_type": "code",
   "execution_count": 2,
   "id": "seeing-little",
   "metadata": {},
   "outputs": [
    {
     "name": "stdout",
     "output_type": "stream",
     "text": [
      "Enter a number:20\n",
      "Enter a number:30\n",
      "50\n"
     ]
    }
   ],
   "source": [
    "#Python program to add two numbers\n",
    "def add(n,m):\n",
    "    total = 0\n",
    "    total = n + m\n",
    "    return total\n",
    "\n",
    "num1 = int(input(\"Enter a number:\"))\n",
    "num2 = int(input(\"Enter a number:\"))\n",
    "print(add(num1,num2))"
   ]
  },
  {
   "cell_type": "code",
   "execution_count": 13,
   "id": "academic-latitude",
   "metadata": {},
   "outputs": [
    {
     "name": "stdout",
     "output_type": "stream",
     "text": [
      "Enter numbers:50 70\n",
      "70\n"
     ]
    }
   ],
   "source": [
    "# Maximum of two numbers in Python\n",
    "def maximum(n,m):\n",
    "    if ( n > m):\n",
    "        return n\n",
    "    else:\n",
    "        return m\n",
    "    \n",
    "num1,num2 = map(int,input(\"Enter numbers:\").split())\n",
    "print(maximum(num1,num2))"
   ]
  },
  {
   "cell_type": "code",
   "execution_count": 16,
   "id": "proper-korea",
   "metadata": {},
   "outputs": [
    {
     "name": "stdout",
     "output_type": "stream",
     "text": [
      "enter a number:6\n",
      "720\n"
     ]
    }
   ],
   "source": [
    "#Python Program for factorial of a number\n",
    "def fact(n):\n",
    "    p = 1\n",
    "    for i in range(1,n+1):\n",
    "        p *= i\n",
    "    return p\n",
    "\n",
    "n = int(input(\"enter a number:\"))\n",
    "print(fact(n))"
   ]
  },
  {
   "cell_type": "code",
   "execution_count": 22,
   "id": "legendary-inspiration",
   "metadata": {},
   "outputs": [
    {
     "name": "stdout",
     "output_type": "stream",
     "text": [
      "Enter principal:78000\n",
      "Enter time:1\n",
      "Enter rate:7\n",
      "5460.0\n"
     ]
    }
   ],
   "source": [
    "#Python Program for simple interest\n",
    "def simple_interest(p,t,r):\n",
    "    i = ( p * t * r)/100\n",
    "    return i\n",
    "\n",
    "p = int(input(\"Enter principal:\"))\n",
    "t = int(input(\"Enter time:\"))\n",
    "r = int(input(\"Enter rate:\"))\n",
    "print(simple_interest(p,t,r))"
   ]
  },
  {
   "cell_type": "code",
   "execution_count": 27,
   "id": "taken-roman",
   "metadata": {},
   "outputs": [
    {
     "name": "stdout",
     "output_type": "stream",
     "text": [
      "Enter principal:78000\n",
      "Enter time:1\n",
      "Enter rate:7\n",
      "5460.0\n"
     ]
    }
   ],
   "source": [
    "#Python Program for compound interest\n",
    "def compond_interest(p,t,r):\n",
    "    i = p * (pow((1 + r/100),t))\n",
    "    return (i-p)\n",
    "\n",
    "p = int(input(\"Enter principal:\"))\n",
    "t = int(input(\"Enter time:\"))\n",
    "r = int(input(\"Enter rate:\"))\n",
    "print(compond_interest(p,t,r))\n",
    "    "
   ]
  },
  {
   "cell_type": "code",
   "execution_count": 29,
   "id": "mobile-jersey",
   "metadata": {},
   "outputs": [
    {
     "name": "stdout",
     "output_type": "stream",
     "text": [
      "Enter a number:1634\n",
      "Given number is Armstrong\n"
     ]
    }
   ],
   "source": [
    "#Python Program to check Armstrong Number\n",
    "# Function to calculate order of the number\n",
    "def order(x):\n",
    "  \n",
    "    # Variable to store of the number\n",
    "    n = 0\n",
    "    while (x != 0):\n",
    "        n = n + 1\n",
    "        x = x // 10\n",
    "          \n",
    "    return n\n",
    "\n",
    "def Armstrong(n):\n",
    "    s = 0\n",
    "    p = order(n)\n",
    "    while n > 0:\n",
    "        r = n % 10\n",
    "        s = s + pow(r,p)\n",
    "        n = n//10\n",
    "    return s\n",
    "\n",
    "num = int(input(\"Enter a number:\"))\n",
    "if (Armstrong(num) == num):\n",
    "    print(\"Given number is Armstrong\")\n",
    "else:\n",
    "    print(\"Given number is not Armstrong\")"
   ]
  },
  {
   "cell_type": "code",
   "execution_count": 30,
   "id": "extreme-breakdown",
   "metadata": {},
   "outputs": [
    {
     "name": "stdout",
     "output_type": "stream",
     "text": [
      "Enter radius:5\n",
      "Area 78.5\n"
     ]
    }
   ],
   "source": [
    "#Python Program for Program to find area of a circle\n",
    "def area_circle(r):\n",
    "    area = 3.14 * pow(r,2)\n",
    "    return area\n",
    "\n",
    "r = int(input(\"Enter radius:\"))\n",
    "print(\"Area\",area_circle(r))"
   ]
  },
  {
   "cell_type": "code",
   "execution_count": 33,
   "id": "martial-counter",
   "metadata": {},
   "outputs": [
    {
     "name": "stdout",
     "output_type": "stream",
     "text": [
      "5\n",
      "7\n",
      "11\n",
      "13\n",
      "17\n",
      "19\n"
     ]
    }
   ],
   "source": [
    "#Python program to print all Prime numbers in an Interval\n",
    "def prime_interval(start,end):\n",
    "    for i in range(start,end+1):\n",
    "        not_prime=False\n",
    "        for j in range(2,i):\n",
    "            if  i % j == 0:\n",
    "                not_prime=True\n",
    "                break\n",
    "        if not_prime == False:\n",
    "            print(i)\n",
    "    \n",
    "\n",
    "prime_interval(5,20)"
   ]
  },
  {
   "cell_type": "code",
   "execution_count": 35,
   "id": "unauthorized-issue",
   "metadata": {},
   "outputs": [
    {
     "name": "stdout",
     "output_type": "stream",
     "text": [
      "Given number is not prime\n"
     ]
    }
   ],
   "source": [
    "#Python program to check whether a number is Prime or not\n",
    "def prime_check(n):\n",
    "    prime=True\n",
    "    for j in range(2,n):\n",
    "        if  n % j == 0:\n",
    "            prime=False\n",
    "            break\n",
    "    if prime == True:\n",
    "        print(\"Given number is prime\")\n",
    "    else:\n",
    "        print(\"Given number is not prime\")\n",
    "        \n",
    "prime_check(6)"
   ]
  },
  {
   "cell_type": "code",
   "execution_count": 39,
   "id": "natural-victor",
   "metadata": {},
   "outputs": [
    {
     "name": "stdout",
     "output_type": "stream",
     "text": [
      "34\n"
     ]
    }
   ],
   "source": [
    "#Python Program for n-th Fibonacci number\n",
    "def fibonacci(n):\n",
    "    if n == 1 :\n",
    "        return 0\n",
    "    elif n == 2:\n",
    "        return 1\n",
    "    else:\n",
    "        return (fibonacci(n-1)+ fibonacci(n-2))\n",
    "print(fibonacci(10))"
   ]
  },
  {
   "cell_type": "code",
   "execution_count": 40,
   "id": "adaptive-validation",
   "metadata": {},
   "outputs": [
    {
     "name": "stdout",
     "output_type": "stream",
     "text": [
      "55\n"
     ]
    }
   ],
   "source": [
    "#Python Program for Sum of squares of first n natural numbers\n",
    "def sum_squares(n):\n",
    "    s = 0\n",
    "    for i in range(1,n+1):\n",
    "        s = s + pow(i,2)\n",
    "    return s\n",
    "\n",
    "print(sum_squares(5))"
   ]
  },
  {
   "cell_type": "code",
   "execution_count": 41,
   "id": "animated-billion",
   "metadata": {},
   "outputs": [
    {
     "name": "stdout",
     "output_type": "stream",
     "text": [
      "225\n"
     ]
    }
   ],
   "source": [
    "#Python Program for cube sum of first n natural numbers\n",
    "def sum_cubes(n):\n",
    "    s = 0\n",
    "    for i in range(1,n+1):\n",
    "        s = s + pow(i,3)\n",
    "    return s\n",
    "\n",
    "print(sum_cubes(5))"
   ]
  },
  {
   "cell_type": "code",
   "execution_count": 42,
   "id": "instructional-brush",
   "metadata": {},
   "outputs": [
    {
     "name": "stdout",
     "output_type": "stream",
     "text": [
      "The ASCII value of 'g' is 103\n"
     ]
    }
   ],
   "source": [
    "#Program to print ASCII Value of a character\n",
    "c = 'g'\n",
    "# print the ASCII value of assigned character in c\n",
    "print(\"The ASCII value of '\" + c + \"' is\", ord(c))"
   ]
  }
 ],
 "metadata": {
  "kernelspec": {
   "display_name": "Python 3",
   "language": "python",
   "name": "python3"
  },
  "language_info": {
   "codemirror_mode": {
    "name": "ipython",
    "version": 3
   },
   "file_extension": ".py",
   "mimetype": "text/x-python",
   "name": "python",
   "nbconvert_exporter": "python",
   "pygments_lexer": "ipython3",
   "version": "3.6.9"
  }
 },
 "nbformat": 4,
 "nbformat_minor": 5
}
