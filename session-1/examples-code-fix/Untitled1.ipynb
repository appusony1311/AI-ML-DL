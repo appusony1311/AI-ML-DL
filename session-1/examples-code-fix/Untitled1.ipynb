{
 "cells": [
  {
   "cell_type": "markdown",
   "id": "pleased-humor",
   "metadata": {},
   "source": [
    "Python Program to find sum of array\n",
    "\n",
    "Python Program to find largest element in an array\n",
    "\n",
    "Python Program for array rotation\n",
    "\n",
    "Python Program for Reversal algorithm for array rotation\n",
    "\n",
    "Python Program to Split the array and add the first part to the end\n",
    "\n",
    "Python Program for Find reminder of array multiplication divided by n\n",
    "\n",
    "Python Program to check if given array is Monotonic\n"
   ]
  },
  {
   "cell_type": "code",
   "execution_count": 15,
   "id": "minus-thanks",
   "metadata": {},
   "outputs": [
    {
     "name": "stdout",
     "output_type": "stream",
     "text": [
      "[[1, 2, 3, 4, 5, 1, 2, 3, 4, 5]]\n"
     ]
    },
    {
     "ename": "TypeError",
     "evalue": "unsupported operand type(s) for +: 'int' and 'list'",
     "output_type": "error",
     "traceback": [
      "\u001b[0;31m---------------------------------------------------------------------------\u001b[0m",
      "\u001b[0;31mTypeError\u001b[0m                                 Traceback (most recent call last)",
      "\u001b[0;32m<ipython-input-15-a7dadfc05ab1>\u001b[0m in \u001b[0;36m<module>\u001b[0;34m\u001b[0m\n\u001b[1;32m     12\u001b[0m \u001b[0mlst\u001b[0m \u001b[0;34m=\u001b[0m \u001b[0marr\u001b[0m\u001b[0;34m.\u001b[0m\u001b[0mtolist\u001b[0m\u001b[0;34m(\u001b[0m\u001b[0;34m)\u001b[0m\u001b[0;34m\u001b[0m\u001b[0;34m\u001b[0m\u001b[0m\n\u001b[1;32m     13\u001b[0m \u001b[0mprint\u001b[0m\u001b[0;34m(\u001b[0m\u001b[0mlst\u001b[0m\u001b[0;34m)\u001b[0m\u001b[0;34m\u001b[0m\u001b[0;34m\u001b[0m\u001b[0m\n\u001b[0;32m---> 14\u001b[0;31m \u001b[0mprint\u001b[0m\u001b[0;34m(\u001b[0m\u001b[0msum\u001b[0m\u001b[0;34m(\u001b[0m\u001b[0ml\u001b[0m\u001b[0;34m)\u001b[0m\u001b[0;34m)\u001b[0m\u001b[0;34m\u001b[0m\u001b[0;34m\u001b[0m\u001b[0m\n\u001b[0m",
      "\u001b[0;31mTypeError\u001b[0m: unsupported operand type(s) for +: 'int' and 'list'"
     ]
    }
   ],
   "source": [
    "#Python Program to find sum of array\n",
    "import numpy as np\n",
    "def sum_array(lst):\n",
    "    s = 0\n",
    "    for ele in lst:\n",
    "        s = s + ele\n",
    "    return s\n",
    "\n",
    "l = [[ 1,2,3,4,5], [1,2,3,4,5]]\n",
    "arr = np.array(l)\n",
    "arr = np.reshape(arr,(1,-1),'C')\n",
    "lst = arr.tolist()\n",
    "print(lst)\n",
    "print(sum(l))\n"
   ]
  },
  {
   "cell_type": "code",
   "execution_count": 17,
   "id": "nominated-empire",
   "metadata": {},
   "outputs": [
    {
     "name": "stdout",
     "output_type": "stream",
     "text": [
      "Enter Cx, Cy, r:\n",
      "10 20 3\n"
     ]
    }
   ],
   "source": [
    "print(\"Enter Cx, Cy, r:\");\n",
    "(Cx, Cy, r) = input().split();"
   ]
  }
 ],
 "metadata": {
  "kernelspec": {
   "display_name": "Python 3",
   "language": "python",
   "name": "python3"
  },
  "language_info": {
   "codemirror_mode": {
    "name": "ipython",
    "version": 3
   },
   "file_extension": ".py",
   "mimetype": "text/x-python",
   "name": "python",
   "nbconvert_exporter": "python",
   "pygments_lexer": "ipython3",
   "version": "3.6.9"
  }
 },
 "nbformat": 4,
 "nbformat_minor": 5
}
