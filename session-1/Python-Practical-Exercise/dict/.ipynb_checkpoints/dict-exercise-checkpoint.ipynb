{
 "cells": [
  {
   "cell_type": "markdown",
   "id": "realistic-cooler",
   "metadata": {},
   "source": [
    "###\n",
    "Dictionary Programs:\n",
    "\n",
    "    Python – Extract Unique values dictionary values\n",
    "    Python program to find the sum of all items in a dictionary\n",
    "    Python | Ways to remove a key from dictionary\n",
    "    Ways to sort list of dictionaries by values in Python – Using itemgetter\n",
    "    Ways to sort list of dictionaries by values in Python – Using lambda function\n",
    "    Python | Merging two Dictionaries\n",
    "    Python – Convert key-values list to flat dictionary\n",
    "    Python – Insertion at the beginning in OrderedDict\n",
    "    Python | Check order of character in string using OrderedDict( )\n",
    "    Dictionary and counter in Python to find winner of election\n",
    "    Python – Append Dictionary Keys and Values ( In order ) in dictionary\n",
    "    Python | Sort Python Dictionaries by Key or Value\n",
    "    Python – Sort Dictionary key and values List\n",
    "    Handling missing keys in Python dictionaries\n",
    "    Python dictionary with keys having multiple inputs\n",
    "    Print anagrams together in Python using List and Dictionary\n",
    "    K’th Non-repeating Character in Python using List Comprehension and OrderedDict\n",
    "    Check if binary representations of two numbers are anagram\n",
    "    Python Counter to find the size of largest subset of anagram words\n",
    "    Python | Remove all duplicates words from a given sentence\n",
    "    Python Dictionary to find mirror characters in a string\n",
    "    Counting the frequencies in a list using dictionary in Python\n",
    "    Python | Convert a list of Tuples into Dictionary\n",
    "    Python counter and dictionary intersection example (Make a string using deletion and rearrangement)\n",
    "    Python dictionary, set and counter to check if frequencies can become same\n",
    "    Scraping And Finding Ordered Words In A Dictionary using Python\n",
    "    Possible Words using given characters in Python\n",
    "    Python – Keys associated with Values in Dictionary\n"
   ]
  },
  {
   "cell_type": "code",
   "execution_count": 6,
   "id": "engaging-athens",
   "metadata": {},
   "outputs": [
    {
     "name": "stdout",
     "output_type": "stream",
     "text": [
      "[1, 2, 5, 6, 7, 8, 10, 11, 12]\n"
     ]
    }
   ],
   "source": [
    "#Python – Extract Unique values dictionary values\n",
    "from itertools import chain\n",
    "# initializing dictionary\n",
    "test_dict = {'gfg' : [5, 6, 7, 8],\n",
    "             'is' : [10, 11, 7, 5],\n",
    "             'best' : [6, 12, 10, 8],\n",
    "             'for' : [1, 2, 5]}\n",
    "# Using chain() + sorted() + values()\n",
    "res = list(sorted(set(chain(*test_dict.values()))))\n",
    "print(res)"
   ]
  },
  {
   "cell_type": "code",
   "execution_count": 12,
   "id": "dried-ireland",
   "metadata": {},
   "outputs": [
    {
     "name": "stdout",
     "output_type": "stream",
     "text": [
      "the sum of all items in a dictionary 600\n",
      "the sum of all items in a dictionary 600\n",
      "the sum of all items in a dictionary 600\n"
     ]
    }
   ],
   "source": [
    "#Python program to find the sum of all items in a dictionary\n",
    "test_dict ={'a': 100, 'b':200, 'c':300}\n",
    "#method 1\n",
    "s=sum(test_dict.values())\n",
    "print(\"the sum of all items in a dictionary\",s)\n",
    "\n",
    "#method2\n",
    "s=0\n",
    "for i in test_dict.values():\n",
    "    s=s+i\n",
    "print(\"the sum of all items in a dictionary\",s)\n",
    "\n",
    "#method3\n",
    "s=0\n",
    "for i in test_dict:\n",
    "    s=s+test_dict[i]\n",
    "print(\"the sum of all items in a dictionary\",s)\n"
   ]
  },
  {
   "cell_type": "code",
   "execution_count": 20,
   "id": "secure-insight",
   "metadata": {},
   "outputs": [
    {
     "name": "stdout",
     "output_type": "stream",
     "text": [
      "{'Arushi': 22, 'Anuradha': 21, 'Mani': 21, 'Haritha': 21}\n",
      "{'Arushi': 22, 'Anuradha': 21, 'Mani': 21, 'Haritha': 21}\n",
      "{'Anuradha': 21, 'Mani': 21, 'Haritha': 21}\n"
     ]
    }
   ],
   "source": [
    "#Python | Ways to remove a key from dictionary\n",
    "test_dict = {\"Arushi\" : 22, \"Anuradha\" : 21, \"Mani\" : 21, \"Haritha\" : 21}\n",
    "key=\"Arush\"\n",
    "#method1\n",
    "if (test_dict.get(key)):\n",
    "    del test_dict[key]\n",
    "    \n",
    "print(test_dict)\n",
    "\n",
    "#method2\n",
    "test_dict = {\"Arushi\" : 22, \"Anuradha\" : 21, \"Mani\" : 21, \"Haritha\" : 21}\n",
    "key=\"Arush\"\n",
    "test_dict.pop(key,\"not found\")\n",
    "print(test_dict)\n",
    "\n",
    "#method3\n",
    "test_dict = {\"Arushi\" : 22, \"Anuradha\" : 21, \"Mani\" : 21, \"Haritha\" : 21}\n",
    "key1=\"Arushi\"\n",
    "new_dict = {key:val for key, val in test_dict.items() if key != key1}\n",
    "print(new_dict)\n"
   ]
  },
  {
   "cell_type": "code",
   "execution_count": 26,
   "id": "encouraging-shopper",
   "metadata": {},
   "outputs": [
    {
     "name": "stdout",
     "output_type": "stream",
     "text": [
      "OrderedDict([('rajnish', '9'), ('ravi', '10'), ('sanjeev', '15'), ('suraj', '32'), ('yash', '2')])\n"
     ]
    }
   ],
   "source": [
    "#Ways to sort list of dictionaries by values in Python – Using lambda function\n",
    "# Initializing dictionary\n",
    "from collections import OrderedDict\n",
    "dict1 = {'ravi':'10','rajnish':'9','sanjeev':'15','yash':'2','suraj':'32'}\n",
    "dict2 = OrderedDict(sorted(dict1.items()))\n",
    "print(dict2)\n"
   ]
  },
  {
   "cell_type": "code",
   "execution_count": 32,
   "id": "broken-maple",
   "metadata": {},
   "outputs": [
    {
     "name": "stdout",
     "output_type": "stream",
     "text": [
      "{'ravi': '10', 'rajnish': '9', 'sanjeev': '15', 'yash': '2', 'suraj': '32', 'Arushi': 22, 'Anuradha': 21, 'Mani': 21, 'Haritha': 21}\n",
      "{'ravi': '10', 'rajnish': '9', 'sanjeev': '15', 'yash': '2', 'suraj': '32', 'Arushi': 22, 'Anuradha': 21, 'Mani': 21, 'Haritha': 21}\n"
     ]
    }
   ],
   "source": [
    "#Python | Merging two Dictionaries\n",
    "dict1 = {'ravi':'10','rajnish':'9','sanjeev':'15','yash':'2','suraj':'32'}\n",
    "dict2 = {\"Arushi\" : 22, \"Anuradha\" : 21, \"Mani\" : 21, \"Haritha\" : 21}\n",
    "#method1\n",
    "dict3 = {**dict1, **dict2}\n",
    "print(dict3)\n",
    "\n",
    "#method2\n",
    "new_dict = dict1.update(test_dict)\n",
    "print(dict1)\n"
   ]
  },
  {
   "cell_type": "code",
   "execution_count": 34,
   "id": "sonic-telephone",
   "metadata": {},
   "outputs": [
    {
     "name": "stdout",
     "output_type": "stream",
     "text": [
      "The original dictionary is : {'month': [1, 2, 3], 'name': ['Jan', 'Feb', 'March']}\n",
      "Flattened dictionary : {1: 'Jan', 2: 'Feb', 3: 'March'}\n"
     ]
    }
   ],
   "source": [
    "#Python – Convert key-values list to flat dictionary\n",
    "# Convert key-values list to flat dictionary\n",
    "# Using dict() + zip()\n",
    "from itertools import product\n",
    "  \n",
    "# initializing dictionary\n",
    "test_dict = {'month' : [1, 2, 3],\n",
    "             'name' : ['Jan', 'Feb', 'March']}\n",
    "  \n",
    "# printing original dictionary\n",
    "print(\"The original dictionary is : \" + str(test_dict))\n",
    "  \n",
    "# Convert key-values list to flat dictionary\n",
    "# Using dict() + zip()\n",
    "res = dict(zip(test_dict['month'], test_dict['name']))\n",
    "  \n",
    "# printing result \n",
    "print(\"Flattened dictionary : \" + str(res)) "
   ]
  },
  {
   "cell_type": "code",
   "execution_count": null,
   "id": "peaceful-belarus",
   "metadata": {},
   "outputs": [],
   "source": [
    "#Python – Insertion at the beginning in OrderedDict"
   ]
  }
 ],
 "metadata": {
  "kernelspec": {
   "display_name": "Python 3",
   "language": "python",
   "name": "python3"
  },
  "language_info": {
   "codemirror_mode": {
    "name": "ipython",
    "version": 3
   },
   "file_extension": ".py",
   "mimetype": "text/x-python",
   "name": "python",
   "nbconvert_exporter": "python",
   "pygments_lexer": "ipython3",
   "version": "3.6.9"
  }
 },
 "nbformat": 4,
 "nbformat_minor": 5
}
