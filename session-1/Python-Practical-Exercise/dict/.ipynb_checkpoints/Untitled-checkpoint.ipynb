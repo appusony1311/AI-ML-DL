{
 "cells": [
  {
   "cell_type": "markdown",
   "id": "above-underwear",
   "metadata": {},
   "source": [
    "###\n",
    "Dictionary Programs:\n",
    "\n",
    "    Python – Extract Unique values dictionary values\n",
    "    Python program to find the sum of all items in a dictionary\n",
    "    Python | Ways to remove a key from dictionary\n",
    "    Ways to sort list of dictionaries by values in Python – Using itemgetter\n",
    "    Ways to sort list of dictionaries by values in Python – Using lambda function\n",
    "    Python | Merging two Dictionaries\n",
    "    Python – Convert key-values list to flat dictionary\n",
    "    Python – Insertion at the beginning in OrderedDict\n",
    "    Python | Check order of character in string using OrderedDict( )\n",
    "    Dictionary and counter in Python to find winner of election\n",
    "    Python – Append Dictionary Keys and Values ( In order ) in dictionary\n",
    "    Python | Sort Python Dictionaries by Key or Value\n",
    "    Python – Sort Dictionary key and values List\n",
    "    Handling missing keys in Python dictionaries\n",
    "    Python dictionary with keys having multiple inputs\n",
    "    Print anagrams together in Python using List and Dictionary\n",
    "    K’th Non-repeating Character in Python using List Comprehension and OrderedDict\n",
    "    Check if binary representations of two numbers are anagram\n",
    "    Python Counter to find the size of largest subset of anagram words\n",
    "    Python | Remove all duplicates words from a given sentence\n",
    "    Python Dictionary to find mirror characters in a string\n",
    "    Counting the frequencies in a list using dictionary in Python\n",
    "    Python | Convert a list of Tuples into Dictionary\n",
    "    Python counter and dictionary intersection example (Make a string using deletion and rearrangement)\n",
    "    Python dictionary, set and counter to check if frequencies can become same\n",
    "    Scraping And Finding Ordered Words In A Dictionary using Python\n",
    "    Possible Words using given characters in Python\n",
    "    Python – Keys associated with Values in Dictionary\n"
   ]
  },
  {
   "cell_type": "code",
   "execution_count": 6,
   "id": "improving-implement",
   "metadata": {},
   "outputs": [
    {
     "name": "stdout",
     "output_type": "stream",
     "text": [
      "[1, 2, 5, 6, 7, 8, 10, 11, 12]\n"
     ]
    }
   ],
   "source": [
    "#Python – Extract Unique values dictionary values\n",
    "from itertools import chain\n",
    "# initializing dictionary\n",
    "test_dict = {'gfg' : [5, 6, 7, 8],\n",
    "             'is' : [10, 11, 7, 5],\n",
    "             'best' : [6, 12, 10, 8],\n",
    "             'for' : [1, 2, 5]}\n",
    "# Using chain() + sorted() + values()\n",
    "res = list(sorted(set(chain(*test_dict.values()))))\n",
    "print(res)"
   ]
  },
  {
   "cell_type": "code",
   "execution_count": 8,
   "id": "ordinary-diamond",
   "metadata": {},
   "outputs": [
    {
     "name": "stdout",
     "output_type": "stream",
     "text": [
      "600\n"
     ]
    }
   ],
   "source": [
    "#Python program to find the sum of all items in a dictionary\n",
    "test_dict ={'a': 100, 'b':200, 'c':300}\n",
    "s=sum(test_dict.values())\n",
    "print(s)"
   ]
  }
 ],
 "metadata": {
  "kernelspec": {
   "display_name": "Python 3",
   "language": "python",
   "name": "python3"
  },
  "language_info": {
   "codemirror_mode": {
    "name": "ipython",
    "version": 3
   },
   "file_extension": ".py",
   "mimetype": "text/x-python",
   "name": "python",
   "nbconvert_exporter": "python",
   "pygments_lexer": "ipython3",
   "version": "3.6.9"
  }
 },
 "nbformat": 4,
 "nbformat_minor": 5
}
