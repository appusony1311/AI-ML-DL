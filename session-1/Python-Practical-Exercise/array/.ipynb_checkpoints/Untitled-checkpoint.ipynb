{
 "cells": [
  {
   "cell_type": "markdown",
   "id": "technical-delhi",
   "metadata": {},
   "source": [
    "###\n",
    "Array Programs:\n",
    "\n",
    "    Python Program to find sum of array\n",
    "    Python Program to find largest element in an array\n",
    "    Python Program for array rotation\n",
    "    Python Program for Reversal algorithm for array rotation\n",
    "    Python Program to Split the array and add the first part to the end\n",
    "    Python Program for Find reminder of array multiplication divided by n\n",
    "    Python Program to check if given array is Monotonic"
   ]
  },
  {
   "cell_type": "code",
   "execution_count": 3,
   "id": "possible-university",
   "metadata": {},
   "outputs": [
    {
     "name": "stdout",
     "output_type": "stream",
     "text": [
      "34\n",
      "34\n"
     ]
    }
   ],
   "source": [
    "#Python Program to find sum of array\n",
    "# input values to list\n",
    "arr = [12, 3, 4, 15]\n",
    "print(sum(arr))\n",
    "s=0\n",
    "for ele in arr:\n",
    "    s += ele\n",
    "print(s)"
   ]
  },
  {
   "cell_type": "code",
   "execution_count": 4,
   "id": "abstract-scientist",
   "metadata": {},
   "outputs": [
    {
     "name": "stdout",
     "output_type": "stream",
     "text": [
      "9808\n"
     ]
    }
   ],
   "source": [
    "#Python Program to find largest element in an array\n",
    "arr = [10, 324, 45, 90, 9808]\n",
    "print(max(arr))"
   ]
  },
  {
   "cell_type": "code",
   "execution_count": 11,
   "id": "agricultural-picture",
   "metadata": {},
   "outputs": [
    {
     "name": "stdout",
     "output_type": "stream",
     "text": [
      "[3, 4, 5, 6, 7, 1, 2]\n"
     ]
    }
   ],
   "source": [
    "#Python Program for array rotation\n",
    "def rotate(arr,l,d):\n",
    "    arr = arr + arr[0:d]\n",
    "    del arr[0:d]\n",
    "    print(arr)\n",
    "  \n",
    "arr = [1, 2, 3, 4, 5, 6, 7]\n",
    "rotate(arr,len(arr),2)\n",
    "    \n",
    "    "
   ]
  },
  {
   "cell_type": "code",
   "execution_count": 13,
   "id": "short-warren",
   "metadata": {},
   "outputs": [
    {
     "name": "stdout",
     "output_type": "stream",
     "text": [
      "[7, 1, 2, 3, 4, 5, 6]\n"
     ]
    }
   ],
   "source": [
    "#Python Program for Reversal algorithm for array rotation\n",
    "def rotate(arr,l,d):\n",
    "    arr = arr + arr[0:d]\n",
    "    del arr[0:d]\n",
    "    print(arr)\n",
    "  \n",
    "arr = [1, 2, 3, 4, 5, 6, 7]\n",
    "rotate(arr,len(arr),len(arr)-1)"
   ]
  },
  {
   "cell_type": "code",
   "execution_count": 15,
   "id": "pretty-connecticut",
   "metadata": {},
   "outputs": [
    {
     "name": "stdout",
     "output_type": "stream",
     "text": [
      "[3, 4, 5, 6, 7, 1, 2]\n"
     ]
    }
   ],
   "source": [
    "#Python Program to Split the array and add the first part to the end\n",
    "def rotate(arr,l,d):\n",
    "    arr = arr + arr[:d]\n",
    "    del arr[:d]\n",
    "    print(arr)\n",
    "  \n",
    "arr = [1, 2, 3, 4, 5, 6, 7]\n",
    "rotate(arr,len(arr),2)"
   ]
  },
  {
   "cell_type": "code",
   "execution_count": 17,
   "id": "smooth-trick",
   "metadata": {},
   "outputs": [
    {
     "name": "stdout",
     "output_type": "stream",
     "text": [
      "458.1818181818182\n"
     ]
    }
   ],
   "source": [
    "#Python Program for Find reminder of array multiplication divided by n\n",
    "n=11\n",
    "p=1\n",
    "arr = [1, 2, 3, 4, 5, 6, 7]\n",
    "for ele in arr:\n",
    "    p *= ele\n",
    "    \n",
    "print(p/n)"
   ]
  },
  {
   "cell_type": "code",
   "execution_count": 18,
   "id": "threaded-greene",
   "metadata": {},
   "outputs": [
    {
     "name": "stdout",
     "output_type": "stream",
     "text": [
      "Not Monotonics\n",
      "None\n"
     ]
    }
   ],
   "source": [
    "#\n",
    "def isMonotonic(arr):\n",
    "    for i in range(0,len(arr)-1):\n",
    "        if not arr[i] > arr[i+1]:\n",
    "            print(\"Not Monotonics\")\n",
    "            break\n",
    "        \n",
    "        \n",
    "# Driver program\n",
    "A = [6, 5, 4, 4]\n",
    "  \n",
    "# Print required result\n",
    "print(isMonotonic(A))"
   ]
  }
 ],
 "metadata": {
  "kernelspec": {
   "display_name": "Python 3",
   "language": "python",
   "name": "python3"
  },
  "language_info": {
   "codemirror_mode": {
    "name": "ipython",
    "version": 3
   },
   "file_extension": ".py",
   "mimetype": "text/x-python",
   "name": "python",
   "nbconvert_exporter": "python",
   "pygments_lexer": "ipython3",
   "version": "3.6.9"
  }
 },
 "nbformat": 4,
 "nbformat_minor": 5
}
