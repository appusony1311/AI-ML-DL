{
 "cells": [
  {
   "cell_type": "markdown",
   "id": "consistent-toilet",
   "metadata": {},
   "source": [
    "###Tuple Programs:\n",
    "\n",
    "    Python program to Find the size of a Tuple\n",
    "    Python – Maximum and Minimum K elements in Tuple\n",
    "    Pyhton - Create a list of tuples from given list having number and its cube in each tuple\n",
    "    Python – Adding Tuple to List and vice – versa\n",
    "    Python – Closest Pair to Kth index element in Tuple\n",
    "    Python – Join Tuples if similar initial element\n",
    "    Python – Extract digits from Tuple list\n",
    "    Python – All pair combinations of 2 tuples\n",
    "    Python – Remove Tuples of Length K\n",
    "    Sort a list of tuples by second Item\n",
    "    Python program to Order Tuples using external List\n",
    "    Python – Flatten tuple of List to tuple\n",
    "    Python – Convert Nested Tuple to Custom Key Dictionary\n",
    "\n"
   ]
  },
  {
   "cell_type": "code",
   "execution_count": 3,
   "id": "ultimate-reserve",
   "metadata": {},
   "outputs": [
    {
     "name": "stdout",
     "output_type": "stream",
     "text": [
      "7\n"
     ]
    }
   ],
   "source": [
    "#Python program to Find the size of a Tuple\n",
    "t=(1,2,3,4,5,[1,2,3,4,5],\"abc\")\n",
    "print(len(t))"
   ]
  },
  {
   "cell_type": "code",
   "execution_count": 5,
   "id": "reasonable-chuck",
   "metadata": {},
   "outputs": [
    {
     "name": "stdout",
     "output_type": "stream",
     "text": [
      "7\n",
      "-1\n"
     ]
    }
   ],
   "source": [
    "#Python – Maximum and Minimum K elements in Tuple\n",
    "t=(1,2,3,4,5,6,7,8-9)\n",
    "print(max(t))\n",
    "print(min(t))"
   ]
  },
  {
   "cell_type": "code",
   "execution_count": 9,
   "id": "approximate-consolidation",
   "metadata": {},
   "outputs": [
    {
     "name": "stdout",
     "output_type": "stream",
     "text": [
      "[1, 2, 3, 4, 5, 6]\n",
      "(1, 2, 3, 4, 5, 6)\n"
     ]
    }
   ],
   "source": [
    "#Python – Adding Tuple to List and vice – versa\n",
    "t=(1,2,3,4,5,6)\n",
    "l=list(t)\n",
    "print(l)\n",
    "set1=tuple(l)\n",
    "print(set1)"
   ]
  },
  {
   "cell_type": "code",
   "execution_count": 14,
   "id": "pressing-pickup",
   "metadata": {},
   "outputs": [
    {
     "name": "stdout",
     "output_type": "stream",
     "text": [
      "1 2 3 4 5 6 "
     ]
    }
   ],
   "source": [
    "#Python – Extract digits from Tuple list\n",
    "t=(1,2,3,4,5,6)\n",
    "for ele in t:\n",
    "    print(ele,end=' ')"
   ]
  }
 ],
 "metadata": {
  "kernelspec": {
   "display_name": "Python 3",
   "language": "python",
   "name": "python3"
  },
  "language_info": {
   "codemirror_mode": {
    "name": "ipython",
    "version": 3
   },
   "file_extension": ".py",
   "mimetype": "text/x-python",
   "name": "python",
   "nbconvert_exporter": "python",
   "pygments_lexer": "ipython3",
   "version": "3.6.9"
  }
 },
 "nbformat": 4,
 "nbformat_minor": 5
}
