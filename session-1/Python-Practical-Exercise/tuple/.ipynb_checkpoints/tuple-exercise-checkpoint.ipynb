{
 "cells": [
  {
   "cell_type": "markdown",
   "id": "public-transportation",
   "metadata": {},
   "source": [
    "###Tuple Programs:\n",
    "\n",
    "    Python program to Find the size of a Tuple\n",
    "    Python – Maximum and Minimum K elements in Tuple\n",
    "    Pyhton - Create a list of tuples from given list having number and its cube in each tuple\n",
    "    Python – Adding Tuple to List and vice – versa\n",
    "    Python – Closest Pair to Kth index element in Tuple\n",
    "    Python – Join Tuples if similar initial element\n",
    "    Python – Extract digits from Tuple list\n",
    "    Python – All pair combinations of 2 tuples\n",
    "    Python – Remove Tuples of Length K\n",
    "    Sort a list of tuples by second Item\n",
    "    Python program to Order Tuples using external List\n",
    "    Python – Flatten tuple of List to tuple\n",
    "    Python – Convert Nested Tuple to Custom Key Dictionary\n",
    "\n"
   ]
  },
  {
   "cell_type": "code",
   "execution_count": 3,
   "id": "hollow-motion",
   "metadata": {},
   "outputs": [
    {
     "name": "stdout",
     "output_type": "stream",
     "text": [
      "7\n"
     ]
    }
   ],
   "source": [
    "#Python program to Find the size of a Tuple\n",
    "t=(1,2,3,4,5,[1,2,3,4,5],\"abc\")\n",
    "print(len(t))"
   ]
  },
  {
   "cell_type": "code",
   "execution_count": 1,
   "id": "outstanding-presence",
   "metadata": {},
   "outputs": [
    {
     "name": "stdout",
     "output_type": "stream",
     "text": [
      "7\n",
      "-1\n"
     ]
    }
   ],
   "source": [
    "#Python – Maximum and Minimum K elements in Tuple\n",
    "t=(1,2,3,4,5,6,7,8-9)\n",
    "print(max(t))\n",
    "print(min(t))"
   ]
  },
  {
   "cell_type": "code",
   "execution_count": 5,
   "id": "eligible-opinion",
   "metadata": {},
   "outputs": [
    {
     "name": "stdout",
     "output_type": "stream",
     "text": [
      "[(9, 729), (5, 125), (7, 343)]\n",
      "[(9, 729), (5, 125), (7, 343)]\n"
     ]
    }
   ],
   "source": [
    "#Pyhton - Create a list of tuples from given list having number and its cube in each tuple\n",
    "#Input: list = [1, 2, 3]\n",
    "#Output: [(1, 1), (2, 8), (3, 27)]\n",
    "\n",
    "#Input: list = [9, 5, 6]\n",
    "#Output: [(9, 729), (5, 125), (6, 216)]\n",
    "#method1\n",
    "l=[9,5,7]\n",
    "new_list = []\n",
    "for ele in l:\n",
    "    new_list.append((ele, pow(ele,3)))\n",
    "\n",
    "print(new_list)\n",
    "\n",
    "#method2\n",
    "new_list = [(ele,pow(ele,3)) for ele in l]\n",
    "print(new_list)"
   ]
  },
  {
   "cell_type": "code",
   "execution_count": 9,
   "id": "ecological-virtue",
   "metadata": {},
   "outputs": [
    {
     "name": "stdout",
     "output_type": "stream",
     "text": [
      "[1, 2, 3, 4, 5, 6, 7, 8, 9]\n",
      "(1, 2, 3, 4, 5, 6, 7, 8, 9)\n"
     ]
    }
   ],
   "source": [
    "#Python – Adding Tuple to List and vice – versa\n",
    "t = (1,2,3,4,5,6)\n",
    "l = [7,8,9]\n",
    "\n",
    "new_list = list(t) + l\n",
    "print(new_list)\n",
    "\n",
    "new_tuple = t + tuple(l)\n",
    "print(new_tuple)"
   ]
  },
  {
   "cell_type": "code",
   "execution_count": 11,
   "id": "expressed-reset",
   "metadata": {},
   "outputs": [
    {
     "name": "stdout",
     "output_type": "stream",
     "text": [
      "The original tuple 1 : (4, 5)\n",
      "The original tuple 2 : (7, 8)\n",
      "The filtered tuple : [(4, 7), (4, 8), (5, 7), (5, 8), (7, 4), (7, 5), (8, 4), (8, 5)]\n"
     ]
    }
   ],
   "source": [
    "# Python3 code to demonstrate working of \n",
    "# All pair combinations of 2 tuples\n",
    "# Using list comprehension\n",
    "  \n",
    "# initializing tuples\n",
    "test_tuple1 = (4, 5)\n",
    "test_tuple2 = (7, 8)\n",
    "  \n",
    "# printing original tuples\n",
    "print(\"The original tuple 1 : \" + str(test_tuple1))\n",
    "print(\"The original tuple 2 : \" + str(test_tuple2))\n",
    "  \n",
    "# All pair combinations of 2 tuples\n",
    "# Using list comprehension\n",
    "res =  [(a, b) for a in test_tuple1 for b in test_tuple2]\n",
    "res = res +  [(a, b) for a in test_tuple2 for b in test_tuple1]\n",
    "  \n",
    "# printing result \n",
    "print(\"The filtered tuple : \" + str(res))"
   ]
  },
  {
   "cell_type": "code",
   "execution_count": 13,
   "id": "genetic-campaign",
   "metadata": {},
   "outputs": [
    {
     "name": "stdout",
     "output_type": "stream",
     "text": [
      "The original list : [(4, 5), (4,), (8, 6, 7), (1,), (3, 4, 6, 7)]\n",
      "Filtered list : [(4, 5), (8, 6, 7), (3, 4, 6, 7)]\n"
     ]
    }
   ],
   "source": [
    "#\n",
    "# Remove Tuples of Length K\n",
    "# Using list comprehension\n",
    "  \n",
    "# initializing list\n",
    "test_list = [(4, 5), (4, ), (8, 6, 7), (1, ), (3, 4, 6, 7)]\n",
    "  \n",
    "# printing original list\n",
    "print(\"The original list : \" + str(test_list))\n",
    "  \n",
    "# initializing K \n",
    "K = 1\n",
    "  \n",
    "# 1 liner to perform task\n",
    "# filter just lengths other than K \n",
    "# len() used to compute length\n",
    "res = [ele for ele in test_list if len(ele) != K]\n",
    "  \n",
    "# printing result \n",
    "print(\"Filtered list : \" + str(res))"
   ]
  },
  {
   "cell_type": "code",
   "execution_count": 15,
   "id": "distributed-packet",
   "metadata": {},
   "outputs": [
    {
     "name": "stdout",
     "output_type": "stream",
     "text": [
      "[('akash', 5), ('rishav', 10), ('gaurav', 15), ('ram', 20)]\n"
     ]
    }
   ],
   "source": [
    "# tuples by the second Item using sort() \n",
    "  \n",
    "# Function to sort hte list by second item of tuple\n",
    "def Sort_Tuple(tup): \n",
    "  \n",
    "    # reverse = None (Sorts in Ascending order) \n",
    "    # key is set to sort using second element of \n",
    "    # sublist lambda has been used \n",
    "    tup.sort(key = lambda x: x[1]) \n",
    "    return tup \n",
    "  \n",
    "# Driver Code \n",
    "tup = [('rishav', 10), ('akash', 5), ('ram', 20), ('gaurav', 15)] \n",
    "  \n",
    "# printing the sorted list of tuples\n",
    "print(Sort_Tuple(tup)) "
   ]
  },
  {
   "cell_type": "code",
   "execution_count": 16,
   "id": "hollow-course",
   "metadata": {},
   "outputs": [
    {
     "name": "stdout",
     "output_type": "stream",
     "text": [
      "The original tuple : ([5, 6], [6, 7, 8, 9], [3])\n",
      "The flattened tuple : (5, 6, 6, 7, 8, 9, 3)\n"
     ]
    }
   ],
   "source": [
    "# Flatten tuple of List to tuple\n",
    "# Using sum() + tuple()\n",
    "  \n",
    "# initializing tuple\n",
    "test_tuple = ([5, 6], [6, 7, 8, 9], [3])\n",
    "  \n",
    "# printing original tuple\n",
    "print(\"The original tuple : \" + str(test_tuple))\n",
    "  \n",
    "# Flatten tuple of List to tuple\n",
    "# Using sum() + tuple()\n",
    "res = tuple(sum(test_tuple, []))\n",
    "  \n",
    "# printing result \n",
    "print(\"The flattened tuple : \" + str(res))"
   ]
  },
  {
   "cell_type": "code",
   "execution_count": null,
   "id": "confused-suggestion",
   "metadata": {},
   "outputs": [],
   "source": []
  }
 ],
 "metadata": {
  "kernelspec": {
   "display_name": "Python 3",
   "language": "python",
   "name": "python3"
  },
  "language_info": {
   "codemirror_mode": {
    "name": "ipython",
    "version": 3
   },
   "file_extension": ".py",
   "mimetype": "text/x-python",
   "name": "python",
   "nbconvert_exporter": "python",
   "pygments_lexer": "ipython3",
   "version": "3.6.9"
  }
 },
 "nbformat": 4,
 "nbformat_minor": 5
}
