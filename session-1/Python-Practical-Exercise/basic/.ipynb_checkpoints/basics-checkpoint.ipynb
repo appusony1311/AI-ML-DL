{
 "cells": [
  {
   "cell_type": "markdown",
   "id": "grand-model",
   "metadata": {},
   "source": [
    "####\n",
    "Basic Programs:\n",
    "\n",
    "    Python program to add two numbers\n",
    "    Maximum of two numbers in Python\n",
    "    Python Program for factorial of a number\n",
    "    Python Program for simple interest\n",
    "    Python Program for compound interest\n",
    "    Python Program to check Armstrong Number\n",
    "    Python Program for Program to find area of a circle\n",
    "    Python program to print all Prime numbers in an Interval\n",
    "    Python program to check whether a number is Prime or not\n",
    "    Python Program for n-th Fibonacci number\n",
    "    Program to print ASCII Value of a character\n",
    "    Python Program for Sum of squares of first n natural numbers\n",
    "    Python Program for cube sum of first n natural numbers\n"
   ]
  },
  {
   "cell_type": "code",
   "execution_count": 2,
   "id": "drawn-dietary",
   "metadata": {},
   "outputs": [
    {
     "name": "stdout",
     "output_type": "stream",
     "text": [
      "Enter a number:10\n",
      "Enter a number:20\n",
      "Sum of 10 and 20 is 30\n"
     ]
    }
   ],
   "source": [
    "#Python program to add two numbers\n",
    "def sum_two(n,m):\n",
    "    return(n+m)\n",
    "\n",
    "p = int(input(\"Enter a number:\"))\n",
    "q = int(input(\"Enter a number:\"))\n",
    "print(\"Sum of {0} and {1} is {2}\" .format(p, q, sum_two(p,q)))"
   ]
  },
  {
   "cell_type": "code",
   "execution_count": 3,
   "id": "subsequent-persian",
   "metadata": {},
   "outputs": [
    {
     "name": "stdout",
     "output_type": "stream",
     "text": [
      "Enter a number:200\n",
      "Enter a number:2\n",
      "Max of 200 and 2 is 200\n"
     ]
    }
   ],
   "source": [
    "#Maximum of two numbers in Python\n",
    "def maximum(a,b):\n",
    "    if a > b:\n",
    "        return a\n",
    "    else:\n",
    "        return b\n",
    "\n",
    "\n",
    "p = int(input(\"Enter a number:\"))\n",
    "q = int(input(\"Enter a number:\"))\n",
    "print(\"Max of {0} and {1} is {2}\" .format(p, q, maximum(p,q)))"
   ]
  },
  {
   "cell_type": "code",
   "execution_count": 6,
   "id": "solid-latex",
   "metadata": {},
   "outputs": [
    {
     "name": "stdout",
     "output_type": "stream",
     "text": [
      "Enter a number to find fact:5\n",
      "factorial of a number 5  is 120\n"
     ]
    }
   ],
   "source": [
    "#Python Program for factorial of a number\n",
    "def fact(n):\n",
    "    if n == 1:\n",
    "        return 1\n",
    "    else:\n",
    "        return(n*fact(n-1))\n",
    "    \n",
    "p = int(input(\"Enter a number to find fact:\"))\n",
    "print(\"factorial of a number {0}  is {1}\" .format(p,fact(p)))\n"
   ]
  },
  {
   "cell_type": "code",
   "execution_count": 7,
   "id": "civilian-samba",
   "metadata": {},
   "outputs": [
    {
     "name": "stdout",
     "output_type": "stream",
     "text": [
      "Enter prinicpal ammount:100000\n",
      "Enter time duration:1\n",
      "Enter interest:6\n",
      "Simple interest of a amount 100000, duration 1 and rate 6  is 6000.0\n"
     ]
    }
   ],
   "source": [
    "#Python Program for simple interest\n",
    "def simple_interest(p,t,r):\n",
    "    i =( p * t * r )/ 100\n",
    "    return i\n",
    "\n",
    "p = int(input(\"Enter prinicipal ammount:\"))\n",
    "t = int(input(\"Enter time duration:\"))\n",
    "r = int(input(\"Enter interest:\"))\n",
    "print(\"Simple interest of a amount {0}, duration {1} and rate {2}  is {3}\" .format(p,t,r,simple_interest(p,t,r)))"
   ]
  },
  {
   "cell_type": "code",
   "execution_count": 10,
   "id": "portable-cycle",
   "metadata": {},
   "outputs": [
    {
     "name": "stdout",
     "output_type": "stream",
     "text": [
      "Enter prinicipal ammount:100000\n",
      "Enter time duration:2\n",
      "Enter interest:6\n",
      "Compond interest of a amount 100000, duration 2 and rate 6  is 12360.000000000015\n"
     ]
    }
   ],
   "source": [
    "#Python Program for compound interest\n",
    "def compound_interest(p,t,r):\n",
    "    i = p*(pow((1+r/100),t))\n",
    "    return(i-p)\n",
    "\n",
    "p = int(input(\"Enter prinicipal ammount:\"))\n",
    "t = int(input(\"Enter time duration:\"))\n",
    "r = int(input(\"Enter interest:\"))\n",
    "print(\"Compond interest of a amount {0}, duration {1} and rate {2}  is {3}\" .format(p,t,r,compound_interest(p,t,r)))"
   ]
  },
  {
   "cell_type": "code",
   "execution_count": 13,
   "id": "assisted-straight",
   "metadata": {},
   "outputs": [
    {
     "name": "stdout",
     "output_type": "stream",
     "text": [
      "Enter a number:153\n",
      "Given number is Armstrong Number\n"
     ]
    }
   ],
   "source": [
    "#Python Program to check Armstrong Number\n",
    "def armstrong_number(n):\n",
    "    num=n\n",
    "    s=0\n",
    "    while n != 0:\n",
    "        r = n % 10\n",
    "        s = s + pow(r,3)\n",
    "        n = n // 10\n",
    "    if num == s:\n",
    "        print(\"Given number is Armstrong Number\")\n",
    "    else:\n",
    "        print(\"Given number is not Armstrong Number\")\n",
    "    \n",
    "p = int(input(\"Enter a number:\"))\n",
    "armstrong_number(p)"
   ]
  },
  {
   "cell_type": "code",
   "execution_count": 14,
   "id": "heavy-familiar",
   "metadata": {},
   "outputs": [
    {
     "name": "stdout",
     "output_type": "stream",
     "text": [
      "Enter circle radius:5\n",
      "area of a circle of given radius 5  is 78.5\n"
     ]
    }
   ],
   "source": [
    "#Python Program for Program to find area of a circle\n",
    "def area_circle(r):\n",
    "    area=3.14*pow(r,2)\n",
    "    return area\n",
    "p = int(input(\"Enter circle radius:\"))\n",
    "print(\"area of a circle of given radius {0}  is {1}\" .format(p,area_circle(p)))"
   ]
  },
  {
   "cell_type": "code",
   "execution_count": 20,
   "id": "latest-arrangement",
   "metadata": {},
   "outputs": [
    {
     "name": "stdout",
     "output_type": "stream",
     "text": [
      "Enter a number: check whether a number is Prime or not:6\n",
      "Given number is 6, prime number:False\n"
     ]
    }
   ],
   "source": [
    "#Python program to check whether a number is Prime or not\n",
    "def check_prime(n):\n",
    "    prime=True\n",
    "    for i in range(2,n):\n",
    "        if n % i == 0:\n",
    "            prime=False\n",
    "            break\n",
    "            \n",
    "    return prime\n",
    "\n",
    "p = int(input(\"Enter a number: check whether a number is Prime or not:\"))\n",
    "print(\"Given number is {0}, prime number:{1}\".format(p,check_prime(p)))"
   ]
  },
  {
   "cell_type": "code",
   "execution_count": 21,
   "id": "regulation-yemen",
   "metadata": {},
   "outputs": [
    {
     "name": "stdout",
     "output_type": "stream",
     "text": [
      "Given number is 10, prime number:False\n",
      "Given number is 11, prime number:True\n",
      "Given number is 12, prime number:False\n",
      "Given number is 13, prime number:True\n",
      "Given number is 14, prime number:False\n",
      "Given number is 15, prime number:False\n",
      "Given number is 16, prime number:False\n",
      "Given number is 17, prime number:True\n",
      "Given number is 18, prime number:False\n",
      "Given number is 19, prime number:True\n",
      "Given number is 20, prime number:False\n",
      "Given number is 21, prime number:False\n",
      "Given number is 22, prime number:False\n",
      "Given number is 23, prime number:True\n",
      "Given number is 24, prime number:False\n",
      "Given number is 25, prime number:False\n",
      "Given number is 26, prime number:False\n",
      "Given number is 27, prime number:False\n",
      "Given number is 28, prime number:False\n",
      "Given number is 29, prime number:True\n"
     ]
    }
   ],
   "source": [
    "#Python program to print all Prime numbers in an Interval\n",
    "n = 10\n",
    "m = 30\n",
    "for i in range(n,m):\n",
    "    print(\"Given number is {0}, prime number:{1}\".format(i,check_prime(i)))"
   ]
  },
  {
   "cell_type": "code",
   "execution_count": 25,
   "id": "controlling-region",
   "metadata": {},
   "outputs": [
    {
     "name": "stdout",
     "output_type": "stream",
     "text": [
      "Enter a number for n-th Fibonacci number:10\n",
      "Given number is 10, n-th Fibonacci number:34\n"
     ]
    }
   ],
   "source": [
    "#Python Program for n-th Fibonacci number\n",
    "def fibo(n):\n",
    "    if n==1:\n",
    "        return 0\n",
    "    elif n==2:\n",
    "        return 1\n",
    "    else:\n",
    "        return(fibo(n-1)+fibo(n-2))\n",
    "\n",
    "\n",
    "p = int(input(\"Enter a number for n-th Fibonacci number:\"))\n",
    "print(\"Given number is {0}, n-th Fibonacci number:{1}\".format(p,fibo(p)))"
   ]
  },
  {
   "cell_type": "code",
   "execution_count": 34,
   "id": "activated-wright",
   "metadata": {},
   "outputs": [
    {
     "name": "stdout",
     "output_type": "stream",
     "text": [
      "g\n",
      "Given character g,ASCII Value of a character :103\n"
     ]
    }
   ],
   "source": [
    "#Program to print ASCII Value of a character\n",
    "def ascii_value(ch):\n",
    "    print(ch)\n",
    "    return(ord(ch))\n",
    "\n",
    "p = 'g'\n",
    "print(\"Given character {0},ASCII Value of a character :{1}\".format(p,ascii_value(p)))\n"
   ]
  },
  {
   "cell_type": "code",
   "execution_count": 37,
   "id": "interpreted-stamp",
   "metadata": {},
   "outputs": [
    {
     "name": "stdout",
     "output_type": "stream",
     "text": [
      "Enter a number:4\n",
      "Given number is 4,Sum of squares of first n natural number :30\n"
     ]
    }
   ],
   "source": [
    "#Python Program for Sum of squares of first n natural number\n",
    "def sum_squares(n):\n",
    "    s = 0\n",
    "    for i in range(1,n+1):\n",
    "        s = s + pow(i,2)\n",
    "    return s\n",
    "\n",
    "p = int(input(\"Enter a number:\"))\n",
    "print(\"Given number is {0},Sum of squares of first n natural number :{1}\".format(p,sum_squares(p)))"
   ]
  },
  {
   "cell_type": "code",
   "execution_count": 38,
   "id": "recent-mason",
   "metadata": {},
   "outputs": [
    {
     "name": "stdout",
     "output_type": "stream",
     "text": [
      "Enter a number:5\n",
      "Given number is 5, cube sum of first n natural numbers :225\n"
     ]
    }
   ],
   "source": [
    "#Python Program for cube sum of first n natural numbers\n",
    "def sum_cubes(n):\n",
    "    s = 0\n",
    "    for i in range(1,n+1):\n",
    "        s = s + pow(i,3)\n",
    "    return s\n",
    "\n",
    "p = int(input(\"Enter a number:\"))\n",
    "print(\"Given number is {0}, cube sum of first n natural numbers :{1}\".format(p,sum_cubes(p)))"
   ]
  }
 ],
 "metadata": {
  "kernelspec": {
   "display_name": "Python 3",
   "language": "python",
   "name": "python3"
  },
  "language_info": {
   "codemirror_mode": {
    "name": "ipython",
    "version": 3
   },
   "file_extension": ".py",
   "mimetype": "text/x-python",
   "name": "python",
   "nbconvert_exporter": "python",
   "pygments_lexer": "ipython3",
   "version": "3.6.9"
  }
 },
 "nbformat": 4,
 "nbformat_minor": 5
}
