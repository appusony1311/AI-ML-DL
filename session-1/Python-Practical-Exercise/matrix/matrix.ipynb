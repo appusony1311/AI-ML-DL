{
 "cells": [
  {
   "cell_type": "markdown",
   "id": "premier-venue",
   "metadata": {},
   "source": [
    "###Matrix Programs:\n",
    "\n",
    "    Python program to add two Matrices\n",
    "    Python program to multiply two matrices\n",
    "    Python program for Matrix Product\n",
    "    Adding and Subtracting Matrices in Python\n",
    "    Transpose a matrix in Single line in Python\n",
    "    Python | Matrix creation of n*n\n",
    "    Python | Get Kth Column of Matrix\n",
    "    Python – Vertical Concatenation in Matrix\n"
   ]
  },
  {
   "cell_type": "code",
   "execution_count": null,
   "id": "proved-mixer",
   "metadata": {},
   "outputs": [],
   "source": []
  },
  {
   "cell_type": "code",
   "execution_count": 11,
   "id": "compatible-samuel",
   "metadata": {},
   "outputs": [
    {
     "name": "stdout",
     "output_type": "stream",
     "text": [
      "[[10 10 10]\n",
      " [10 10 10]\n",
      " [10 10 10]]\n"
     ]
    }
   ],
   "source": [
    "# Program to add two matrices using nested loop\n",
    "import numpy as np \n",
    "X = [[1,2,3], [4 ,5,6],[7,8,9]]\n",
    "Y = [[9,8,7], [6,5,4], [3,2,1]]\n",
    "A = np.array(X)\n",
    "B = np.array(Y)\n",
    "if A.ndim == B.ndim:\n",
    "    C= A+B\n",
    "    print(C)\n",
    "else:\n",
    "    print(\"dim did not match\")\n"
   ]
  },
  {
   "cell_type": "code",
   "execution_count": 13,
   "id": "compact-cancellation",
   "metadata": {},
   "outputs": [
    {
     "name": "stdout",
     "output_type": "stream",
     "text": [
      "[[ 9 16 21]\n",
      " [24 25 24]\n",
      " [21 16  9]]\n"
     ]
    }
   ],
   "source": [
    "#Python program to multiply two matrices\n",
    "import numpy as np \n",
    "X = [[1,2,3], [4 ,5,6],[7,8,9]]\n",
    "Y = [[9,8,7], [6,5,4], [3,2,1]]\n",
    "A = np.array(X)\n",
    "B = np.array(Y)\n",
    "if A.ndim == B.ndim:\n",
    "    C= A*B\n",
    "    print(C)\n",
    "else:\n",
    "    print(\"dim did not match\")"
   ]
  },
  {
   "cell_type": "code",
   "execution_count": 17,
   "id": "leading-letter",
   "metadata": {},
   "outputs": [
    {
     "name": "stdout",
     "output_type": "stream",
     "text": [
      "1622880\n"
     ]
    }
   ],
   "source": [
    "#Python program for Matrix Product - elements\n",
    "# initializing list\n",
    "p = 1\n",
    "test_list = [[1, 4, 5], [7, 3], [4], [46, 7, 3]]\n",
    "for ele in test_list:\n",
    "    for e in ele:\n",
    "        p = p * e\n",
    "print(p)"
   ]
  },
  {
   "cell_type": "code",
   "execution_count": 20,
   "id": "finished-sword",
   "metadata": {},
   "outputs": [
    {
     "name": "stdout",
     "output_type": "stream",
     "text": [
      "Printing elements of first matrix\n",
      "[[1 2]\n",
      " [3 4]]\n",
      "Printing elements of second matrix\n",
      "[[4 5]\n",
      " [6 7]]\n",
      "Subtraction of two matrix\n",
      "[[-3 -3]\n",
      " [-3 -3]]\n",
      "[[-3 -3]\n",
      " [-3 -3]]\n"
     ]
    }
   ],
   "source": [
    "#Adding and Subtracting Matrices in Python\n",
    "# creating first matrix\n",
    "A = np.array([[1, 2], [3, 4]])\n",
    "  \n",
    "# creating second matrix\n",
    "B = np.array([[4, 5], [6, 7]])\n",
    "  \n",
    "print(\"Printing elements of first matrix\")\n",
    "print(A)\n",
    "print(\"Printing elements of second matrix\")\n",
    "print(B)\n",
    "  \n",
    "# subtracting two matrix\n",
    "print(\"Subtraction of two matrix\")\n",
    "print(np.subtract(A, B))\n",
    "\n",
    "print(A-B)"
   ]
  },
  {
   "cell_type": "code",
   "execution_count": 31,
   "id": "printable-capacity",
   "metadata": {},
   "outputs": [
    {
     "name": "stdout",
     "output_type": "stream",
     "text": [
      "[[1, 2, 3], [4, 5, 6]]\n",
      "\n",
      "\n",
      "[[1 4]\n",
      " [2 5]\n",
      " [3 6]]\n",
      "\n",
      "\n",
      "[[1 4]\n",
      " [2 5]\n",
      " [3 6]]\n"
     ]
    }
   ],
   "source": [
    "#Transpose a matrix in Single line in Python\n",
    "import numpy as np\n",
    "matrix=[[1,2,3],[4,5,6]]\n",
    "A=np.array(matrix)\n",
    "print(matrix)\n",
    "print(\"\\n\")\n",
    "print(np.transpose(matrix))\n",
    "print(\"\\n\")\n",
    "print(A.T)"
   ]
  },
  {
   "cell_type": "code",
   "execution_count": 1,
   "id": "deluxe-consultation",
   "metadata": {},
   "outputs": [
    {
     "name": "stdout",
     "output_type": "stream",
     "text": [
      "[[1, 2, 3], [4, 5, 6]]\n",
      "(1, 4)\n",
      "(2, 5)\n",
      "(3, 6)\n"
     ]
    }
   ],
   "source": [
    "##Transpose a matrix in Single line in Python\n",
    "matrix=[[1,2,3],[4,5,6]]\n",
    "print(matrix)\n",
    "\n",
    "new_matrix=zip(*matrix)\n",
    "for row in new_matrix:\n",
    "    print(row)"
   ]
  },
  {
   "cell_type": "code",
   "execution_count": 4,
   "id": "material-sword",
   "metadata": {},
   "outputs": [
    {
     "name": "stdout",
     "output_type": "stream",
     "text": [
      "The dimension : 3\n",
      "The created matrix of N * N: [[1, 2, 3], [4, 5, 6], [7, 8, 9]]\n"
     ]
    }
   ],
   "source": [
    "#\n",
    "# initializing N\n",
    "N = 3\n",
    "  \n",
    "# printing dimension\n",
    "print(\"The dimension : \" + str(N))\n",
    "  \n",
    "# using list comprehension\n",
    "# matrix creation of n * n\n",
    "res = [list(range(1 + N * i, 1 + N * (i + 1)))\n",
    "                            for i in range(N)]\n",
    "  \n",
    "# print result\n",
    "print(\"The created matrix of N * N: \" + str(res))"
   ]
  },
  {
   "cell_type": "code",
   "execution_count": 15,
   "id": "logical-islam",
   "metadata": {},
   "outputs": [
    {
     "name": "stdout",
     "output_type": "stream",
     "text": [
      "The original list is : [[4, 5, 6], [8, 1, 10], [7, 12, 5]]\n",
      "[4, 8, 7]\n",
      "(4, 8, 7)\n"
     ]
    }
   ],
   "source": [
    "#\n",
    "# Get Kth Column of Matrix\n",
    "# using list comprehension\n",
    "  \n",
    "# initialize list\n",
    "test_list = [[4, 5, 6], [8, 1, 10], [7, 12, 5]]\n",
    "  \n",
    "# printing original list\n",
    "print(\"The original list is : \" + str(test_list))\n",
    "  \n",
    "# initialize K\n",
    "K = 0\n",
    "  \n",
    "# Get Kth Column of Matrix\n",
    "# using list comprehension\n",
    "res = [sub[K] for sub in test_list]\n",
    "print(res)\n",
    "#method 2\n",
    "p = list(zip(*test_list))[K]\n",
    "print(p)"
   ]
  },
  {
   "cell_type": "code",
   "execution_count": 16,
   "id": "fossil-balance",
   "metadata": {},
   "outputs": [
    {
     "name": "stdout",
     "output_type": "stream",
     "text": [
      "The original list : [['Gfg', 'good'], ['is', 'for'], ['Best']]\n",
      "List after column Concatenation : ['GfgisBest', 'goodfor']\n"
     ]
    }
   ],
   "source": [
    "# Vertical Concatenation in Matrix\n",
    "# Using join() + list comprehension + zip_longest()\n",
    "from itertools import zip_longest\n",
    "  \n",
    "# initializing lists\n",
    "test_list = [[\"Gfg\", \"good\"], [\"is\", \"for\"], [\"Best\"]]\n",
    "  \n",
    "# printing original list\n",
    "print(\"The original list : \" + str(test_list))\n",
    "  \n",
    "# using join to concaternate, zip_longest filling values using \n",
    "# \"fill\"\n",
    "res = [\"\".join(ele) for ele in zip_longest(*test_list, fillvalue =\"\")]\n",
    "  \n",
    "# printing result \n",
    "print(\"List after column Concatenation : \" + str(res))\n"
   ]
  }
 ],
 "metadata": {
  "kernelspec": {
   "display_name": "Python 3",
   "language": "python",
   "name": "python3"
  },
  "language_info": {
   "codemirror_mode": {
    "name": "ipython",
    "version": 3
   },
   "file_extension": ".py",
   "mimetype": "text/x-python",
   "name": "python",
   "nbconvert_exporter": "python",
   "pygments_lexer": "ipython3",
   "version": "3.6.9"
  }
 },
 "nbformat": 4,
 "nbformat_minor": 5
}
