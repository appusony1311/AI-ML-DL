{
 "cells": [
  {
   "cell_type": "markdown",
   "id": "aquatic-validation",
   "metadata": {},
   "source": [
    "####String Programs:\n",
    "\n",
    "    Python program to check if a string is palindrome or not\n",
    "    Python program to check whether the string is Symmetrical or Palindrome\n",
    "    Reverse words in a given String in Python\n",
    "    Ways to remove i’th character from string in Python\n",
    "    Python | Check if a Substring is Present in a Given String\n",
    "    Python – Words Frequency in String Shorthands\n",
    "    Python – Convert Snake case to Pascal case\n",
    "    Find length of a string in python (4 ways)\n",
    "    Python program to print even length words in a string\n",
    "    Python program to accept the strings which contains all vowels\n",
    "    Python | Count the Number of matching characters in a pair of string\n",
    "    Remove all duplicates from a given string in Python\n",
    "    Python – Least Frequent Character in String\n",
    "    Python | Maximum frequency character in String\n",
    "    Python | Program to check if a string contains any special character\n",
    "    Generating random strings until a given string is generated\n",
    "    Find words which are greater than given length k\n",
    "    Python program for removing i-th character from a string\n",
    "    Python program to split and join a string\n",
    "    Python | Check if a given string is binary string or not\n",
    "    Python program to find uncommon words from two Strings\n",
    "    Python – Replace duplicate Occurrence in String\n",
    "    Python – Replace multiple words with K\n",
    "    Python | Permutation of a given string using inbuilt function\n",
    "    Python | Check for URL in a String\n",
    "    Execute a String of Code in Python\n",
    "    String slicing in Python to rotate a string\n",
    "    String slicing in Python to check if a string can become empty by recursive deletion\n",
    "    Python Counter| Find all duplicate characters in string\n",
    "    Python – Replace all occurrences of a substring in a string"
   ]
  },
  {
   "cell_type": "code",
   "execution_count": null,
   "id": "printable-sheep",
   "metadata": {},
   "outputs": [],
   "source": []
  },
  {
   "cell_type": "code",
   "execution_count": 1,
   "id": "governing-settlement",
   "metadata": {},
   "outputs": [
    {
     "name": "stdout",
     "output_type": "stream",
     "text": [
      "enter a name:liril\n",
      "Given string is palindrome\n",
      "Given string is palindrome\n"
     ]
    }
   ],
   "source": [
    "#Python program to check if a string is palindrome or not\n",
    "#method 1\n",
    "str1=input(\"enter a name:\")\n",
    "\n",
    "if str1 == str1[::-1]:\n",
    "    print(\"Given string is palindrome\")\n",
    "else:\n",
    "    print(\"Given string is not palindrome\")\n",
    "\n",
    "#method2\n",
    "if str1 == ''.join(reversed(str1)):\n",
    "    print(\"Given string is palindrome\")\n",
    "else:\n",
    "    print(\"Given string is not palindrome\")"
   ]
  },
  {
   "cell_type": "code",
   "execution_count": 3,
   "id": "systematic-thing",
   "metadata": {},
   "outputs": [
    {
     "name": "stdout",
     "output_type": "stream",
     "text": [
      "['Alex', 'is', 'very', 'good']\n",
      "good very is Alex\n"
     ]
    }
   ],
   "source": [
    "#Reverse words in a given String in Python\n",
    "str1 = \"Alex is very good\"\n",
    "words = str1.split(' ') \n",
    "print(words)\n",
    "# then reverse the split string list and join using space \n",
    "reverse_sentence = ' '.join(reversed(words)) \n",
    "print(reverse_sentence)"
   ]
  },
  {
   "cell_type": "code",
   "execution_count": 4,
   "id": "polished-marsh",
   "metadata": {},
   "outputs": [
    {
     "name": "stdout",
     "output_type": "stream",
     "text": [
      "Araving goes well 17\n",
      "Araving gos well\n",
      "Araving gos wll\n"
     ]
    }
   ],
   "source": [
    "#Ways to remove i’th character from string in Python\n",
    "str1=\"Araving goes well\"\n",
    "print(str1,len(str1))\n",
    "i=10\n",
    "str2=\"\"\n",
    "str2=str1[0:i] + str1[i+1:]\n",
    "print(str2)\n",
    "#method 2\n",
    "str1=str1.replace('e','')\n",
    "print(str1)"
   ]
  },
  {
   "cell_type": "code",
   "execution_count": 9,
   "id": "circular-basin",
   "metadata": {},
   "outputs": [
    {
     "name": "stdout",
     "output_type": "stream",
     "text": [
      "Substring not Present in a Given String\n"
     ]
    }
   ],
   "source": [
    "#Python | Check if a Substring is Present in a Given String\n",
    "str1=\"Aravind goes to school\"\n",
    "str2=\"school123\"\n",
    "if str1.find(str2) != -1:\n",
    "    print(\"Substring is Present in a Given String\")\n",
    "else:\n",
    "    print(\"Substring not Present in a Given String\")\n"
   ]
  },
  {
   "cell_type": "code",
   "execution_count": 11,
   "id": "recent-object",
   "metadata": {},
   "outputs": [
    {
     "name": "stdout",
     "output_type": "stream",
     "text": [
      "String length 14\n",
      "String length 14\n"
     ]
    }
   ],
   "source": [
    "#Find length of a string in python (4 ways)\n",
    "#method1\n",
    "str1=\"School is fine\"\n",
    "print(\"String length\",len(str1))\n",
    "\n",
    "#method2\n",
    "count=0\n",
    "for ele in str1:\n",
    "    count=count+1\n",
    "print(\"String length\",count)\n"
   ]
  },
  {
   "cell_type": "code",
   "execution_count": 13,
   "id": "impaired-resolution",
   "metadata": {},
   "outputs": [
    {
     "name": "stdout",
     "output_type": "stream",
     "text": [
      "Even length words: to\n",
      "Even length words: world...\n"
     ]
    }
   ],
   "source": [
    "#Python program to print even length words in a string\n",
    "str1 = \"welcoem to the new world...\"\n",
    "for ele in str1.split():\n",
    "    if len(ele)%2 == 0:\n",
    "        print(\"Even length words:\",ele)\n"
   ]
  },
  {
   "cell_type": "code",
   "execution_count": 40,
   "id": "extra-terminal",
   "metadata": {},
   "outputs": [
    {
     "name": "stdout",
     "output_type": "stream",
     "text": [
      "4 d\n"
     ]
    }
   ],
   "source": [
    "#Python | Maximum frequency character in String\n",
    "str1 = \"welcome to hello world\"\n",
    "max_f = 0\n",
    "for ele in str1:\n",
    "    if ele != ' ':\n",
    "        if( str1.count(ele) > max_f):\n",
    "            max_f,ch = str1.count(ele),ele\n",
    "    \n",
    "print(max_f,ele)"
   ]
  },
  {
   "cell_type": "code",
   "execution_count": 21,
   "id": "gorgeous-assumption",
   "metadata": {},
   "outputs": [
    {
     "name": "stdout",
     "output_type": "stream",
     "text": [
      "['Weldone', 'my', 'dear', 'team']\n",
      "Weldone-my-dear-team\n"
     ]
    }
   ],
   "source": [
    "#Python program to split and join a string\n",
    "#Split the string into list of strings\n",
    "str1 = 'Weldone my dear team'\n",
    "str2= str1.split()\n",
    "print(str2)\n",
    "str3 = '-'.join(str2)\n",
    "print(str3)"
   ]
  },
  {
   "cell_type": "code",
   "execution_count": 22,
   "id": "rational-lambda",
   "metadata": {},
   "outputs": [
    {
     "name": "stdout",
     "output_type": "stream",
     "text": [
      "! @ # $ % ^ & * ( ) "
     ]
    }
   ],
   "source": [
    "#Python | Program to check if a string contains any special character\n",
    "str1=\"!@#$%^&*()\"\n",
    "for ele in str1:\n",
    "    if not (ele.isalpha() and ele.isnumeric()):\n",
    "        print(ele,end=' ')     "
   ]
  },
  {
   "cell_type": "code",
   "execution_count": 23,
   "id": "promising-cleaning",
   "metadata": {},
   "outputs": [
    {
     "name": "stdout",
     "output_type": "stream",
     "text": [
      "hello geeks geeks computer science portal "
     ]
    }
   ],
   "source": [
    "#Find words which are greater than given length k\n",
    "str1 = \"hello geeks for geeks is computer science portal\"\n",
    "k=4\n",
    "for ele in str1.split():\n",
    "    if len(ele) > 4:\n",
    "        print(ele,end=' ')"
   ]
  }
 ],
 "metadata": {
  "kernelspec": {
   "display_name": "Python 3",
   "language": "python",
   "name": "python3"
  },
  "language_info": {
   "codemirror_mode": {
    "name": "ipython",
    "version": 3
   },
   "file_extension": ".py",
   "mimetype": "text/x-python",
   "name": "python",
   "nbconvert_exporter": "python",
   "pygments_lexer": "ipython3",
   "version": "3.6.9"
  }
 },
 "nbformat": 4,
 "nbformat_minor": 5
}
