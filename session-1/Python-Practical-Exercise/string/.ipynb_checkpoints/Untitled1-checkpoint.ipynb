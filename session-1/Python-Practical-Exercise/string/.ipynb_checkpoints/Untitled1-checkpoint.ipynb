{
 "cells": [
  {
   "cell_type": "markdown",
   "id": "studied-fleece",
   "metadata": {},
   "source": [
    "####String Programs:\n",
    "\n",
    "    Python program to check if a string is palindrome or not\n",
    "    Python program to check whether the string is Symmetrical or Palindrome\n",
    "    Reverse words in a given String in Python\n",
    "    Ways to remove i’th character from string in Python\n",
    "    Python | Check if a Substring is Present in a Given String\n",
    "    Python – Words Frequency in String Shorthands\n",
    "    Python – Convert Snake case to Pascal case\n",
    "    Find length of a string in python (4 ways)\n",
    "    Python program to print even length words in a string\n",
    "    Python program to accept the strings which contains all vowels\n",
    "    Python | Count the Number of matching characters in a pair of string\n",
    "    Remove all duplicates from a given string in Python\n",
    "    Python – Least Frequent Character in String\n",
    "    Python | Maximum frequency character in String\n",
    "    Python | Program to check if a string contains any special character\n",
    "    Generating random strings until a given string is generated\n",
    "    Find words which are greater than given length k\n",
    "    Python program for removing i-th character from a string\n",
    "    Python program to split and join a string\n",
    "    Python | Check if a given string is binary string or not\n",
    "    Python program to find uncommon words from two Strings\n",
    "    Python – Replace duplicate Occurrence in String\n",
    "    Python – Replace multiple words with K\n",
    "    Python | Permutation of a given string using inbuilt function\n",
    "    Python | Check for URL in a String\n",
    "    Execute a String of Code in Python\n",
    "    String slicing in Python to rotate a string\n",
    "    String slicing in Python to check if a string can become empty by recursive deletion\n",
    "    Python Counter| Find all duplicate characters in string\n",
    "    Python – Replace all occurrences of a substring in a string"
   ]
  },
  {
   "cell_type": "code",
   "execution_count": null,
   "id": "oriented-devon",
   "metadata": {},
   "outputs": [],
   "source": []
  },
  {
   "cell_type": "code",
   "execution_count": 3,
   "id": "chubby-dispute",
   "metadata": {},
   "outputs": [
    {
     "name": "stdout",
     "output_type": "stream",
     "text": [
      "enter a name:liril\n",
      "Given string is palindrome\n"
     ]
    }
   ],
   "source": [
    "#Python program to check if a string is palindrome or not\n",
    "\n",
    "str1=input(\"enter a name:\")\n",
    "\n",
    "if str1 == str1[::-1]:\n",
    "    print(\"Given string is palindrome\")\n",
    "else:\n",
    "    print(\"Given string is not palindrome\")"
   ]
  },
  {
   "cell_type": "code",
   "execution_count": 5,
   "id": "adolescent-oakland",
   "metadata": {},
   "outputs": [
    {
     "name": "stdout",
     "output_type": "stream",
     "text": [
      "Alex\n",
      "is\n",
      "very\n",
      "good\n"
     ]
    }
   ],
   "source": [
    "#Reverse words in a given String in Python\n",
    "str1 = \"Alex is very good\"\n",
    "str2 = \" \"\n",
    "for ele in str1.split():\n",
    "    print(ele)\n",
    "    "
   ]
  },
  {
   "cell_type": "code",
   "execution_count": 18,
   "id": "departmental-stream",
   "metadata": {},
   "outputs": [
    {
     "name": "stdout",
     "output_type": "stream",
     "text": [
      "Araving goes well 17\n",
      "Araving gos well\n",
      "Araving gos wll\n"
     ]
    }
   ],
   "source": [
    "#Ways to remove i’th character from string in Python\n",
    "str1=\"Araving goes well\"\n",
    "print(str1,len(str1))\n",
    "i=10\n",
    "str2=\"\"\n",
    "str2=str1[0:i] + str1[i+1:]\n",
    "print(str2)\n",
    "str1=str1.replace('e','')\n",
    "print(str1)"
   ]
  },
  {
   "cell_type": "code",
   "execution_count": 24,
   "id": "miniature-aberdeen",
   "metadata": {},
   "outputs": [
    {
     "name": "stdout",
     "output_type": "stream",
     "text": [
      "16\n"
     ]
    }
   ],
   "source": [
    "#Python | Check if a Substring is Present in a Given String\n",
    "str1=\"Aravind goes to school\"\n",
    "str2=\"school\"\n",
    "e =  str1.find(str2)\n",
    "print(e)"
   ]
  },
  {
   "cell_type": "code",
   "execution_count": 29,
   "id": "blind-going",
   "metadata": {},
   "outputs": [
    {
     "name": "stdout",
     "output_type": "stream",
     "text": [
      "14\n",
      "14\n"
     ]
    }
   ],
   "source": [
    "#Find length of a string in python (4 ways)\n",
    "\n",
    "str1=\"School is fine\"\n",
    "print(len(str1))\n",
    "\n",
    "e=0\n",
    "for ele in str1:\n",
    "    e=e+1\n",
    "print(e)\n"
   ]
  },
  {
   "cell_type": "code",
   "execution_count": 34,
   "id": "dangerous-material",
   "metadata": {},
   "outputs": [
    {
     "name": "stdout",
     "output_type": "stream",
     "text": [
      "to\n",
      "world...\n"
     ]
    }
   ],
   "source": [
    "#Python program to print even length words in a string\n",
    "str1 = \"welcoem to the new world...\"\n",
    "for ele in str1.split():\n",
    "    if len(ele)%2 == 0:\n",
    "        print(ele)\n"
   ]
  },
  {
   "cell_type": "code",
   "execution_count": 40,
   "id": "turkish-experiment",
   "metadata": {},
   "outputs": [
    {
     "name": "stdout",
     "output_type": "stream",
     "text": [
      "4 d\n"
     ]
    }
   ],
   "source": [
    "#Python | Maximum frequency character in String\n",
    "str1 = \"welcome to hello world\"\n",
    "max_f = 0\n",
    "for ele in str1:\n",
    "    if ele != ' ':\n",
    "        if( str1.count(ele) > max_f):\n",
    "            max_f,ch = str1.count(ele),ele\n",
    "    \n",
    "print(max_f,ele)"
   ]
  },
  {
   "cell_type": "code",
   "execution_count": 51,
   "id": "settled-baghdad",
   "metadata": {},
   "outputs": [
    {
     "name": "stdout",
     "output_type": "stream",
     "text": [
      "tdmW e l d o n eyemW e l d o n eyamW e l d o n eyredmW e l d o n eyemW e l d o n eyamW e l d o n eyradmW e l d o n eyemW e l d o n eyamW e l d o n eyrm\n"
     ]
    }
   ],
   "source": [
    "#Python program to split and join a string\n",
    "str1 = \"Weldone my dear team\"\n",
    "str2 = \" \"\n",
    "for ele in str1.split():\n",
    "    str2 = str2.join(ele)\n",
    "print(str2)"
   ]
  },
  {
   "cell_type": "code",
   "execution_count": 62,
   "id": "purple-admission",
   "metadata": {},
   "outputs": [
    {
     "name": "stdout",
     "output_type": "stream",
     "text": [
      "! @ # $ % ^ & * ( ) "
     ]
    }
   ],
   "source": [
    "#Python | Program to check if a string contains any special character\n",
    "str1=\"!@#$%^&*()\"\n",
    "for ele in str1:\n",
    "    if not (ele.isalpha() and ele.isnumeric()):\n",
    "        print(ele,end=' ')     "
   ]
  }
 ],
 "metadata": {
  "kernelspec": {
   "display_name": "Python 3",
   "language": "python",
   "name": "python3"
  },
  "language_info": {
   "codemirror_mode": {
    "name": "ipython",
    "version": 3
   },
   "file_extension": ".py",
   "mimetype": "text/x-python",
   "name": "python",
   "nbconvert_exporter": "python",
   "pygments_lexer": "ipython3",
   "version": "3.6.9"
  }
 },
 "nbformat": 4,
 "nbformat_minor": 5
}
