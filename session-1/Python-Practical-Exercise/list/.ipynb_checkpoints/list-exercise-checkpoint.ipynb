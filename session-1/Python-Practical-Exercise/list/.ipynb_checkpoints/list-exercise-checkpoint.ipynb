{
 "cells": [
  {
   "cell_type": "markdown",
   "id": "swedish-clear",
   "metadata": {},
   "source": [
    "###\n",
    "List Programs:\n",
    "\n",
    "    Python program to interchange first and last elements in a list\n",
    "    Python program to swap two elements in a list\n",
    "    Python | Ways to find length of list\n",
    "    Python | Ways to check if element exists in list\n",
    "    Different ways to clear a list in Python\n",
    "    Python | Reversing a List\n",
    "    Python program to find sum of elements in list\n",
    "    Python | Multiply all numbers in the list\n",
    "    Python program to find smallest number in a list\n",
    "    Python program to find largest number in a list\n",
    "    Python program to find second largest number in a list\n",
    "    Python program to find N largest elements from a list\n",
    "    Python program to print even numbers in a list\n",
    "    Python program to print odd numbers in a List\n",
    "    Python program to print all even numbers in a range\n",
    "    Python program to print all odd numbers in a range\n",
    "    Python program to print positive numbers in a list\n",
    "    Python program to print negative numbers in a list\n",
    "    Python program to print all positive numbers in a range\n",
    "    Python program to print all negative numbers in a range\n",
    "    Remove multiple elements from a list in Python\n",
    "    Python – Remove empty List from List\n",
    "    Python | Cloning or Copying a list\n",
    "    Python | Count occurrences of an element in a list\n",
    "    Python | Remove empty tuples from a list\n"
   ]
  },
  {
   "cell_type": "code",
   "execution_count": 5,
   "id": "familiar-namibia",
   "metadata": {},
   "outputs": [
    {
     "name": "stdout",
     "output_type": "stream",
     "text": [
      "original list [1, 2, 3, 4, 5, 6, 7, 8, 9]\n",
      "Output list [9, 2, 3, 4, 5, 6, 7, 8, 1]\n"
     ]
    }
   ],
   "source": [
    "#Python program to interchange first and last elements in a list\n",
    "#Python program to swap two elements in a list\n",
    "def interchange(lst,pos1,pos2):\n",
    "    grp = lst[pos1],lst[pos2]\n",
    "    lst[pos2],lst[pos1] = grp\n",
    "    return lst\n",
    "\n",
    "lst=[1,2,3,4,5,6,7,8,9]\n",
    "pos1=0\n",
    "pos2=len(lst)-1\n",
    "print(\"Original list\",lst)\n",
    "new_list=interchange(lst,pos1,pos2)\n",
    "print(\"Output list\",new_list)"
   ]
  },
  {
   "cell_type": "code",
   "execution_count": 9,
   "id": "intimate-nitrogen",
   "metadata": {},
   "outputs": [
    {
     "name": "stdout",
     "output_type": "stream",
     "text": [
      "length of list 9\n",
      "length of list 9\n"
     ]
    }
   ],
   "source": [
    "#Python | Ways to find length of list\n",
    "from functools import reduce\n",
    "lst=[1,2,3,4,5,6,7,8,9]\n",
    "#method1\n",
    "print(\"length of list\",len(l))\n",
    "\n",
    "#method2\n",
    "c=0\n",
    "for i in lst:\n",
    "    c = c + 1\n",
    "print(\"length of list\",c)\n"
   ]
  },
  {
   "cell_type": "code",
   "execution_count": 14,
   "id": "limiting-catch",
   "metadata": {},
   "outputs": [
    {
     "name": "stdout",
     "output_type": "stream",
     "text": [
      "ele 19 not found in the list\n",
      "ele 19 not found in the list\n"
     ]
    }
   ],
   "source": [
    "#Python | Ways to check if element exists in list\n",
    "l=[1,2,3,4,5,6,7,8,9]\n",
    "ele = 19\n",
    "#method1\n",
    "if ele in l:\n",
    "    print(\"ele {0} found in the list\".format(ele))\n",
    "else:\n",
    "    print(\"ele {0} not found in the list\".format(ele))\n",
    "\n",
    "#method2\n",
    "if l.count(ele):\n",
    "    print(\"ele {0} found in the list\".format(ele))\n",
    "else:\n",
    "    print(\"ele {0} not found in the list\".format(ele))\n",
    "    \n",
    "    "
   ]
  },
  {
   "cell_type": "code",
   "execution_count": 16,
   "id": "temporal-invalid",
   "metadata": {},
   "outputs": [
    {
     "name": "stdout",
     "output_type": "stream",
     "text": [
      "Cleared list []\n",
      "Cleared list []\n"
     ]
    }
   ],
   "source": [
    "#Different ways to clear a list in Python\n",
    "#method1\n",
    "l=[1,2,3,4,5,6,7,8,9]\n",
    "l.clear()\n",
    "print(\"Cleared list\",l)\n",
    "\n",
    "#method2\n",
    "l=[1,2,3,4,5,6,7,8,9]\n",
    "del l[:]\n",
    "print(\"Cleared list\",l)"
   ]
  },
  {
   "cell_type": "code",
   "execution_count": 22,
   "id": "composed-animal",
   "metadata": {},
   "outputs": [
    {
     "name": "stdout",
     "output_type": "stream",
     "text": [
      "Original list [1, 2, 3, 4, 5, 6]\n",
      "Reverse list [6, 5, 4, 3, 2, 1]\n"
     ]
    }
   ],
   "source": [
    "#Python | Reversing a List\n",
    "l=[1,2,3,4,5,6]\n",
    "print(\"Original list\",l)\n",
    "l.reverse()\n",
    "print(\"Reverse list\",l)"
   ]
  },
  {
   "cell_type": "code",
   "execution_count": 25,
   "id": "hairy-exemption",
   "metadata": {},
   "outputs": [
    {
     "name": "stdout",
     "output_type": "stream",
     "text": [
      "Sum of ele of list 45\n",
      "Sum of ele of list 45\n"
     ]
    }
   ],
   "source": [
    "#Python program to find sum of elements in list\n",
    "#method1\n",
    "l=[1,2,3,4,5,6,7,8,9]\n",
    "print(\"Sum of ele of list\",sum(l))\n",
    "\n",
    "#method2\n",
    "l=[1,2,3,4,5,6,7,8,9]\n",
    "count=reduce(lambda x,y:x+y,l)\n",
    "print(\"Sum of ele of list\",count)"
   ]
  },
  {
   "cell_type": "code",
   "execution_count": 30,
   "id": "ignored-algorithm",
   "metadata": {},
   "outputs": [
    {
     "name": "stdout",
     "output_type": "stream",
     "text": [
      "Given list [1, 2, 3, 4, 5]\n",
      "Multiply all numbers in the list 120\n",
      "Multiply all numbers in the list 120\n"
     ]
    }
   ],
   "source": [
    "#Python | Multiply all numbers in the list\n",
    "#method1\n",
    "l=[1,2,3,4,5]\n",
    "print(\"Given list\",l)\n",
    "p = 1\n",
    "for ele in l:\n",
    "    p = p * ele\n",
    "print(\"Multiply all numbers in the list\",p)\n",
    "\n",
    "#method2\n",
    "product=reduce(lambda x,y:x*y,l)\n",
    "print(\"Multiply all numbers in the list\",product)\n"
   ]
  },
  {
   "cell_type": "code",
   "execution_count": 35,
   "id": "lyric-williams",
   "metadata": {},
   "outputs": [
    {
     "name": "stdout",
     "output_type": "stream",
     "text": [
      "Given list [1, 2, 3, 4, 5, 6, 7, 8, 9]\n",
      "smallest number in a list 1\n",
      "largest number in a list 9\n",
      "[1, 2, 3, 4, 5, 6, 7, 8, 9]\n"
     ]
    }
   ],
   "source": [
    "#Python program to find smallest number in a list\n",
    "#Python program to find largest number in a list\n",
    "l=[1,2,3,4,5,6,7,8,9]\n",
    "print(\"Given list\",l)\n",
    "print(\"smallest number in a list\",min(l))\n",
    "print(\"largest number in a list\",max(l))\n"
   ]
  },
  {
   "cell_type": "code",
   "execution_count": 38,
   "id": "broke-trade",
   "metadata": {},
   "outputs": [
    {
     "name": "stdout",
     "output_type": "stream",
     "text": [
      "Given list [1, 2, 3, 4, 5, 6, 7, 8, 9, -1]\n",
      "Given Sorted list [-1, 1, 2, 3, 4, 5, 6, 7, 8, 9]\n",
      "second largest number in a list 8\n",
      "Given Sorted list [-1, 1, 2, 3, 4, 5, 6, 7, 8, 9]\n",
      "second largest number in a list 8\n"
     ]
    }
   ],
   "source": [
    "#Python program to find second largest number in a list\n",
    "#method1\n",
    "l=[1,2,3,4,5,6,7,8,9,-1]\n",
    "print(\"Given list\",l)\n",
    "k=sorted(l)\n",
    "print(\"Given Sorted list\",k)\n",
    "print(\"second largest number in a list\",k[-2])\n",
    "\n",
    "#method2\n",
    "l.sort()\n",
    "print(\"Given Sorted list\",l)\n",
    "print(\"second largest number in a list\",l[-2])"
   ]
  },
  {
   "cell_type": "code",
   "execution_count": 44,
   "id": "every-howard",
   "metadata": {},
   "outputs": [
    {
     "name": "stdout",
     "output_type": "stream",
     "text": [
      "Given list [1, 2, 3, 4, 5, 6, 7, 8, 9, 10]\n",
      "even numbers in a list [2, 4, 6, 8, 10]\n",
      "even numbers in a list [2, 4, 6, 8, 10]\n"
     ]
    }
   ],
   "source": [
    "#Python program to print even numbers in a list\n",
    "#method 1\n",
    "l=[1,2,3,4,5,6,7,8,9,10]\n",
    "print(\"Given list\",l)\n",
    "new_list=[]\n",
    "for ele in l:\n",
    "    if ele % 2 == 0:\n",
    "        new_list.append(ele)\n",
    "print(\"even numbers in a list\",new_list)\n",
    "\n",
    "#method2\n",
    "new_list=list(filter(lambda x: x % 2 == 0 , l))\n",
    "print(\"even numbers in a list\",new_list)"
   ]
  },
  {
   "cell_type": "code",
   "execution_count": 47,
   "id": "quarterly-thermal",
   "metadata": {},
   "outputs": [
    {
     "name": "stdout",
     "output_type": "stream",
     "text": [
      "odd numbers in a List [1, 3, 5, 7, 9]\n",
      "Odd numbers in a list [1, 3, 5, 7, 9]\n"
     ]
    }
   ],
   "source": [
    "#Python program to print odd numbers in a List\n",
    "#method1\n",
    "l=[1,2,3,4,5,6,7,8,9,10]\n",
    "new_list = []\n",
    "for ele in l:\n",
    "    if ele % 2 != 0:\n",
    "        new_list.append(ele)\n",
    "print(\"odd numbers in a List\",new_list)\n",
    "\n",
    "#method2\n",
    "new_list=list(filter(lambda x: x % 2 != 0 , l))\n",
    "print(\"Odd numbers in a list\",new_list)"
   ]
  },
  {
   "cell_type": "code",
   "execution_count": 56,
   "id": "confused-softball",
   "metadata": {},
   "outputs": [
    {
     "name": "stdout",
     "output_type": "stream",
     "text": [
      "even numbers in a list [0, 2, 4, 6, 8]\n",
      "Odd numbers in a list [1, 3, 5, 7, 9]\n"
     ]
    }
   ],
   "source": [
    "#Python program to print all even numbers in a range\n",
    "#Python program to print all odd numbers in a range\n",
    "\n",
    "new_list=list(filter(lambda x: x % 2 == 0 , [x  for x in range(10)]))\n",
    "print(\"even numbers in a list\",new_list)\n",
    "\n",
    "new_list=list(filter(lambda x: x % 2 != 0 , [x  for x in range(10)]))\n",
    "print(\"Odd numbers in a list\",new_list)\n"
   ]
  },
  {
   "cell_type": "code",
   "execution_count": 61,
   "id": "present-museum",
   "metadata": {},
   "outputs": [
    {
     "name": "stdout",
     "output_type": "stream",
     "text": [
      " Count occurrences of an element :12 in a list: 0\n",
      " Count occurrences of an element :12 in a list: 0\n"
     ]
    }
   ],
   "source": [
    "#Python | Count occurrences of an element in a list\n",
    "#method1\n",
    "ele=12\n",
    "lst=[1,2,3,4,5,6,7,8,9,1,1]\n",
    "print(\" Count occurrences of an element :{0} in a list: {1}\".format(ele,lst.count(ele)))\n",
    "\n",
    "#method2\n",
    "c=0\n",
    "for e in lst:\n",
    "    if e == ele:\n",
    "        c=c+1\n",
    "print(\" Count occurrences of an element :{0} in a list: {1}\".format(ele,c))       "
   ]
  },
  {
   "cell_type": "code",
   "execution_count": 64,
   "id": "absent-career",
   "metadata": {},
   "outputs": [
    {
     "name": "stdout",
     "output_type": "stream",
     "text": [
      "New list after removing unwanted numbers:  [17, 18, 23, 50]\n"
     ]
    }
   ],
   "source": [
    "#Remove multiple elements from a list in Python\n",
    "# creating a list\n",
    "list1 = [11, 5, 17, 18, 23, 50]\n",
    " \n",
    "# items to be removed\n",
    "unwanted_num = {11, 5}\n",
    " \n",
    "list1 = [ele for ele in list1 if ele not in unwanted_num]\n",
    " \n",
    "# printing modified list\n",
    "print(\"New list after removing unwanted numbers: \", list1)"
   ]
  },
  {
   "cell_type": "code",
   "execution_count": 70,
   "id": "inside-yesterday",
   "metadata": {},
   "outputs": [
    {
     "name": "stdout",
     "output_type": "stream",
     "text": [
      "The original list is :  [5, 6, [], 3, [], [], 9]\n",
      "The Modified list is :  [5, 6, 3, 9]\n",
      "The Modified list is :  [5, 6, 3, 9]\n"
     ]
    }
   ],
   "source": [
    "#Python – Remove empty List from List\n",
    "# Initializing list \n",
    "test_list = [5, 6, [], 3, [], [], 9]\n",
    "  \n",
    "# printing original list \n",
    "print(\"The original list is : \" ,test_list)\n",
    "new_list = []\n",
    "for ele in test_list:\n",
    "    if ele != []:\n",
    "        new_list.append(ele)\n",
    "print(\"The Modified list is : \" ,new_list)  \n",
    "\n",
    "#method2\n",
    "new_list = [ x for x in test_list if x != []]\n",
    "print(\"The Modified list is : \" ,new_list) "
   ]
  },
  {
   "cell_type": "code",
   "execution_count": 72,
   "id": "associate-disco",
   "metadata": {},
   "outputs": [
    {
     "name": "stdout",
     "output_type": "stream",
     "text": [
      "Original List: [4, 8, 2, 10, 15, 18]\n",
      "After Cloning: [4, 8, 2, 10, 15, 18]\n"
     ]
    }
   ],
   "source": [
    "#Python | Cloning or Copying a list\n",
    "#method1\n",
    "def Cloning(li1):\n",
    "    li_copy = li1\n",
    "    return li_copy\n",
    "  \n",
    "# Driver Code\n",
    "li1 = [4, 8, 2, 10, 15, 18]\n",
    "li2 = Cloning(li1)\n",
    "print(\"Original List:\", li1)\n",
    "print(\"After Cloning:\", li2)"
   ]
  },
  {
   "cell_type": "code",
   "execution_count": 74,
   "id": "driven-local",
   "metadata": {},
   "outputs": [
    {
     "name": "stdout",
     "output_type": "stream",
     "text": [
      "Original List: [4, 8, 2, 10, 15, 18]\n",
      "After Cloning: [4, 8, 2, 10, 15, 18]\n"
     ]
    }
   ],
   "source": [
    "def Cloning(li1):\n",
    "    li_copy = []\n",
    "    li_copy.extend(li1)\n",
    "    return li_copy\n",
    "  \n",
    "# Driver Code\n",
    "li1 = [4, 8, 2, 10, 15, 18]\n",
    "li2 = Cloning(li1)\n",
    "print(\"Original List:\", li1)\n",
    "print(\"After Cloning:\", li2)"
   ]
  },
  {
   "cell_type": "code",
   "execution_count": 76,
   "id": "express-death",
   "metadata": {},
   "outputs": [
    {
     "name": "stdout",
     "output_type": "stream",
     "text": [
      "Original List: [4, 8, 2, 10, 15, 18]\n",
      "After Cloning: [4, 8, 2, 10, 15, 18]\n"
     ]
    }
   ],
   "source": [
    "def Cloning(li1):\n",
    "    li_copy = list(li1)\n",
    "    return li_copy\n",
    "  \n",
    "# Driver Code\n",
    "li1 = [4, 8, 2, 10, 15, 18]\n",
    "li2 = Cloning(li1)\n",
    "print(\"Original List:\", li1)\n",
    "print(\"After Cloning:\", li2)"
   ]
  },
  {
   "cell_type": "code",
   "execution_count": 78,
   "id": "material-elimination",
   "metadata": {},
   "outputs": [
    {
     "name": "stdout",
     "output_type": "stream",
     "text": [
      "Original List: [4, 8, 2, 10, 15, 18]\n",
      "After Cloning: [4, 8, 2, 10, 15, 18]\n"
     ]
    }
   ],
   "source": [
    "def Cloning(li1):\n",
    "    li_copy = [i for i in li1]\n",
    "    return li_copy\n",
    "  \n",
    "# Driver Code\n",
    "li1 = [4, 8, 2, 10, 15, 18]\n",
    "li2 = Cloning(li1)\n",
    "print(\"Original List:\", li1)\n",
    "print(\"After Cloning:\", li2)"
   ]
  },
  {
   "cell_type": "code",
   "execution_count": 80,
   "id": "final-superintendent",
   "metadata": {},
   "outputs": [
    {
     "name": "stdout",
     "output_type": "stream",
     "text": [
      "[('ram', '15', '8'), ('laxman', 'sita'), ('krishna', 'akbar', '45'), ('', '')]\n"
     ]
    }
   ],
   "source": [
    "#Python | Remove empty tuples from a list\n",
    "def Remove(tuples):\n",
    "    tuples = [t for t in tuples if t]\n",
    "    return tuples\n",
    "  \n",
    "# Driver Code\n",
    "tuples = [(), ('ram','15','8'), (), ('laxman', 'sita'), \n",
    "          ('krishna', 'akbar', '45'), ('',''),()]\n",
    "print(Remove(tuples))"
   ]
  },
  {
   "cell_type": "code",
   "execution_count": 83,
   "id": "comfortable-invasion",
   "metadata": {},
   "outputs": [
    {
     "name": "stdout",
     "output_type": "stream",
     "text": [
      "[('ram', '15', '8'), ('laxman', 'sita'), ('krishna', 'akbar', '45'), ('', '')]\n"
     ]
    }
   ],
   "source": [
    "def Remove(tuples):\n",
    "    tuples = filter(None, tuples)\n",
    "    return tuples\n",
    "  \n",
    "# Driver Code\n",
    "tuples = [(), ('ram','15','8'), (), ('laxman', 'sita'), \n",
    "          ('krishna', 'akbar', '45'), ('',''),()]\n",
    "print(list(Remove(tuples)))"
   ]
  }
 ],
 "metadata": {
  "kernelspec": {
   "display_name": "Python 3",
   "language": "python",
   "name": "python3"
  },
  "language_info": {
   "codemirror_mode": {
    "name": "ipython",
    "version": 3
   },
   "file_extension": ".py",
   "mimetype": "text/x-python",
   "name": "python",
   "nbconvert_exporter": "python",
   "pygments_lexer": "ipython3",
   "version": "3.6.9"
  }
 },
 "nbformat": 4,
 "nbformat_minor": 5
}
