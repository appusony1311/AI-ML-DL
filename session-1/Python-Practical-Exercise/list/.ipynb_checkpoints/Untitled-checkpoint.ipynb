{
 "cells": [
  {
   "cell_type": "markdown",
   "id": "excessive-norwegian",
   "metadata": {},
   "source": [
    "###\n",
    "List Programs:\n",
    "\n",
    "    Python program to interchange first and last elements in a list\n",
    "    Python program to swap two elements in a list\n",
    "    Python | Ways to find length of list\n",
    "    Python | Ways to check if element exists in list\n",
    "    Different ways to clear a list in Python\n",
    "    Python | Reversing a List\n",
    "    Python program to find sum of elements in list\n",
    "    Python | Multiply all numbers in the list\n",
    "    Python program to find smallest number in a list\n",
    "    Python program to find largest number in a list\n",
    "    Python program to find second largest number in a list\n",
    "    Python program to find N largest elements from a list\n",
    "    Python program to print even numbers in a list\n",
    "    Python program to print odd numbers in a List\n",
    "    Python program to print all even numbers in a range\n",
    "    Python program to print all odd numbers in a range\n",
    "    Python program to print positive numbers in a list\n",
    "    Python program to print negative numbers in a list\n",
    "    Python program to print all positive numbers in a range\n",
    "    Python program to print all negative numbers in a range\n",
    "    Remove multiple elements from a list in Python\n",
    "    Python – Remove empty List from List\n",
    "    Python | Cloning or Copying a list\n",
    "    Python | Count occurrences of an element in a list\n",
    "    Python | Remove empty tuples from a list\n"
   ]
  },
  {
   "cell_type": "code",
   "execution_count": null,
   "id": "wired-theorem",
   "metadata": {},
   "outputs": [],
   "source": []
  },
  {
   "cell_type": "code",
   "execution_count": 3,
   "id": "sublime-criterion",
   "metadata": {},
   "outputs": [
    {
     "name": "stdout",
     "output_type": "stream",
     "text": [
      "9\n"
     ]
    }
   ],
   "source": [
    "#Python | Ways to find length of list\n",
    "l=[1,2,3,4,5,6,7,8,9]\n",
    "print(len(l))"
   ]
  },
  {
   "cell_type": "code",
   "execution_count": 4,
   "id": "hindu-opportunity",
   "metadata": {},
   "outputs": [
    {
     "name": "stdout",
     "output_type": "stream",
     "text": [
      "[10, 2, 3, 4, 5, 6, 7, 8, 9, 1]\n"
     ]
    }
   ],
   "source": [
    "#Python program to interchange first and last elements in a list\n",
    "l=[1,2,3,4,5,6,7,8,9,10]\n",
    "first=l[0]\n",
    "last=l[-1]\n",
    "l[0]=last\n",
    "l[-1]=first\n",
    "print(l)"
   ]
  },
  {
   "cell_type": "code",
   "execution_count": 7,
   "id": "opening-society",
   "metadata": {},
   "outputs": [
    {
     "name": "stdout",
     "output_type": "stream",
     "text": [
      "ele not found in the list\n"
     ]
    }
   ],
   "source": [
    "#Python | Ways to check if element exists in list\n",
    "l=[1,2,3,4,5,6,7,8,9]\n",
    "ele = 19\n",
    "if ele in l:\n",
    "    print(\"ele found in the list\")\n",
    "else:\n",
    "    print(\"ele not found in the list\")\n",
    "    "
   ]
  },
  {
   "cell_type": "code",
   "execution_count": 11,
   "id": "center-sperm",
   "metadata": {},
   "outputs": [
    {
     "name": "stdout",
     "output_type": "stream",
     "text": [
      "[]\n"
     ]
    }
   ],
   "source": [
    "#Different ways to clear a list in Python\n",
    "l=[1,2,3,4,5,6,7,8,9]\n",
    "l.clear()\n",
    "print(l)\n",
    "\n",
    "l=[1,2,3,4,5,6,7,8,9]\n",
    "del l\n",
    "#print(l)"
   ]
  },
  {
   "cell_type": "code",
   "execution_count": 24,
   "id": "through-healing",
   "metadata": {},
   "outputs": [
    {
     "name": "stdout",
     "output_type": "stream",
     "text": [
      "[1, 2, 3, 4, 5, 6]\n"
     ]
    }
   ],
   "source": [
    "#Python | Reversing a List\n",
    "l=[1,2,3,4,5,6]\n",
    "print(sorted(l))\n"
   ]
  },
  {
   "cell_type": "code",
   "execution_count": 26,
   "id": "selected-plain",
   "metadata": {},
   "outputs": [
    {
     "name": "stdout",
     "output_type": "stream",
     "text": [
      "45\n"
     ]
    }
   ],
   "source": [
    "#Python program to find sum of elements in list\n",
    "l=[1,2,3,4,5,6,7,8,9]\n",
    "print(sum(l))"
   ]
  },
  {
   "cell_type": "code",
   "execution_count": 34,
   "id": "available-characterization",
   "metadata": {},
   "outputs": [
    {
     "name": "stdout",
     "output_type": "stream",
     "text": [
      "120\n"
     ]
    }
   ],
   "source": [
    "#Python | Multiply all numbers in the list\n",
    "l=[1,2,3,4,5]\n",
    "p = 1\n",
    "for ele in l:\n",
    "    #print(ele,p)\n",
    "    p = p * ele\n",
    "    \n",
    "print(p)"
   ]
  },
  {
   "cell_type": "code",
   "execution_count": 37,
   "id": "other-republic",
   "metadata": {},
   "outputs": [
    {
     "name": "stdout",
     "output_type": "stream",
     "text": [
      "9 8\n"
     ]
    }
   ],
   "source": [
    "#Python program to find second largest number in a list\n",
    "l=[1,2,3,4,5,6,7,8,9]\n",
    "k=sorted(l)\n",
    "print(k[-1],k[-2])"
   ]
  },
  {
   "cell_type": "code",
   "execution_count": 40,
   "id": "metric-northeast",
   "metadata": {},
   "outputs": [
    {
     "name": "stdout",
     "output_type": "stream",
     "text": [
      "2 4 6 8 10 "
     ]
    }
   ],
   "source": [
    "#Python program to print even numbers in a list\n",
    "l=[1,2,3,4,5,6,7,8,9,10]\n",
    "for ele in l:\n",
    "    if ele % 2 == 0:\n",
    "        print(ele, end=' ')"
   ]
  },
  {
   "cell_type": "code",
   "execution_count": 42,
   "id": "alpine-precipitation",
   "metadata": {},
   "outputs": [
    {
     "name": "stdout",
     "output_type": "stream",
     "text": [
      "1 3 5 7 9 "
     ]
    }
   ],
   "source": [
    "#Python program to print odd numbers in a List\n",
    "l=[1,2,3,4,5,6,7,8,9,10]\n",
    "for ele in l:\n",
    "    if ele % 2 != 0:\n",
    "        print(ele, end=' ')"
   ]
  },
  {
   "cell_type": "code",
   "execution_count": 46,
   "id": "confirmed-jacob",
   "metadata": {},
   "outputs": [
    {
     "name": "stdout",
     "output_type": "stream",
     "text": [
      "3\n"
     ]
    }
   ],
   "source": [
    "#Python | Count occurrences of an element in a list\n",
    "l=[1,2,3,4,5,6,7,8,9,1,1]\n",
    "print(l.count(1))"
   ]
  },
  {
   "cell_type": "code",
   "execution_count": 48,
   "id": "threaded-track",
   "metadata": {},
   "outputs": [
    {
     "name": "stdout",
     "output_type": "stream",
     "text": [
      "{1, 2, 3, 4, 5, 6, 7, 8}\n",
      "[1, 2, 3, 4, 5, 6, 7, 8]\n"
     ]
    }
   ],
   "source": [
    "#Remove multiple elements from a list in Python\n",
    "\n",
    "l=[1,2,3,4,5,6,7,8,1]\n",
    "s=set(l)\n",
    "print(s)\n",
    "new_list=list(s)\n",
    "print(new_list)"
   ]
  }
 ],
 "metadata": {
  "kernelspec": {
   "display_name": "Python 3",
   "language": "python",
   "name": "python3"
  },
  "language_info": {
   "codemirror_mode": {
    "name": "ipython",
    "version": 3
   },
   "file_extension": ".py",
   "mimetype": "text/x-python",
   "name": "python",
   "nbconvert_exporter": "python",
   "pygments_lexer": "ipython3",
   "version": "3.6.9"
  }
 },
 "nbformat": 4,
 "nbformat_minor": 5
}
